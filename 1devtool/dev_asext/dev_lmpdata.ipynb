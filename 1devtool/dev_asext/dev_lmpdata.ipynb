{
 "cells": [
  {
   "cell_type": "markdown",
   "id": "eec8c6c4",
   "metadata": {},
   "source": [
    "# Devel read/write LAMMPS data files\n",
    "`2025Sep24`: current ASE does not save `atoms.arrays['type']` explicitly, so read/write of LAMMPS data/dump files can not recover the atom types. \n",
    "\n",
    "Devel purpose: read/write LAMMPS data/dump files with atom types."
   ]
  },
  {
   "cell_type": "markdown",
   "id": "0a5c77f5",
   "metadata": {},
   "source": [
    "## Read DUMP file\n",
    "When read DUMP file, ASE use `mass`/`type` columns to determine the chemical symbols. \n",
    "- With [MR 3529](https://gitlab.com/ase/ase/-/merge_requests/3529/diffs), ASE can determine the chemical symbols from `mass` column, so can save the `atoms.arrays['type']` as well."
   ]
  },
  {
   "cell_type": "code",
   "execution_count": null,
   "id": "bdfd4fe6",
   "metadata": {},
   "outputs": [],
   "source": [
    "from ase.io.lammpsrun import read_lammps_dump\n",
    "\n",
    "dump_file = \"testfile/ch4.dump\"\n",
    "struct = read_lammps_dump(dump_file)"
   ]
  },
  {
   "cell_type": "code",
   "execution_count": 10,
   "id": "477bc8a6",
   "metadata": {},
   "outputs": [
    {
     "data": {
      "text/plain": [
       "{'energy': 0.0,\n",
       " 'forces': array([[-0.144013  , -0.264858  , -0.0293463 ],\n",
       "        [ 0.115898  ,  0.0821619 , -0.0790613 ],\n",
       "        [-0.158412  , -0.109536  , -0.0274297 ],\n",
       "        [ 0.190668  ,  0.027508  , -0.157418  ],\n",
       "        [-0.00414137,  0.264724  ,  0.293255  ]])}"
      ]
     },
     "execution_count": 10,
     "metadata": {},
     "output_type": "execute_result"
    }
   ],
   "source": [
    "struct.calc.results"
   ]
  },
  {
   "cell_type": "markdown",
   "id": "f843b294",
   "metadata": {},
   "source": [
    "### Read atoms `type` from DUMP \n",
    "Using `asext.io.lmpdata.read_lmpdump_text()`\n",
    "- This function is a modified version of `ase.io.lammpsrun.read_lammps_dump_text` to allow storing atom types if `type` column is given.\n",
    "\n",
    "NOTE: ASE does not support writing `lammps-dump-text`. [See format](https://ase-lib.org/ase/io/io.html#)"
   ]
  },
  {
   "cell_type": "code",
   "execution_count": null,
   "id": "71e39492",
   "metadata": {},
   "outputs": [
    {
     "data": {
      "text/plain": [
       "{'numbers': array([1, 1, 1, 1, 6]),\n",
       " 'positions': array([[4.65255, 3.49679, 4.42777],\n",
       "        [3.92359, 4.7445 , 4.96772],\n",
       "        [5.10644, 5.63801, 4.43427],\n",
       "        [5.71649, 4.38867, 3.76125],\n",
       "        [4.84659, 4.569  , 4.39505]]),\n",
       " 'type': array([1, 1, 3, 1, 2])}"
      ]
     },
     "execution_count": 1,
     "metadata": {},
     "output_type": "execute_result"
    }
   ],
   "source": [
    "from asext.io.lmpdata import read_lammps_dump_text\n",
    "import numpy as np\n",
    "\n",
    "dump_file = \"testfile/ch4.dump\"\n",
    "struct2 = read_lammps_dump_text(dump_file)\n",
    "struct2.arrays"
   ]
  },
  {
   "cell_type": "code",
   "execution_count": 17,
   "id": "3f0fce5a",
   "metadata": {},
   "outputs": [
    {
     "data": {
      "text/plain": [
       "['H', 'H', 'H', 'H', 'C']"
      ]
     },
     "execution_count": 17,
     "metadata": {},
     "output_type": "execute_result"
    }
   ],
   "source": [
    "struct2.get_chemical_symbols()"
   ]
  },
  {
   "cell_type": "code",
   "execution_count": 4,
   "id": "b6c1db71",
   "metadata": {},
   "outputs": [
    {
     "name": "stdout",
     "output_type": "stream",
     "text": [
      "[1 2 3]\n",
      "['H', 'C', 'H']\n"
     ]
    }
   ],
   "source": [
    "# get unique types in order of first occurrence\n",
    "unique_types, first_idx = np.unique(struct2.arrays[\"type\"], return_index=True)\n",
    "# map them to symbols\n",
    "symbols_by_type = [struct2.symbols[i] for i in first_idx]\n",
    "\n",
    "print(unique_types)  # [1 2 3]\n",
    "print(symbols_by_type)  # ['H', 'C', 'H']"
   ]
  },
  {
   "cell_type": "code",
   "execution_count": 3,
   "id": "af61a634",
   "metadata": {},
   "outputs": [],
   "source": [
    "### Write extxyz file\n",
    "from ase.io import write\n",
    "\n",
    "write(\"testfile/ch4_from_dump.extxyz\", struct2, format=\"extxyz\")"
   ]
  },
  {
   "cell_type": "markdown",
   "id": "4b763c2c",
   "metadata": {},
   "source": [
    "## Write atoms `type` to DATA file\n",
    "ASE function does not write `type` based on `atoms.arrays['type']`"
   ]
  },
  {
   "cell_type": "code",
   "execution_count": 4,
   "id": "a3ea09f6",
   "metadata": {},
   "outputs": [],
   "source": [
    "### ASE function\n",
    "from ase.io.lammpsdata import write_lammps_data\n",
    "\n",
    "write_lammps_data(\"testfile/ch4_ase_write.data\", struct2, masses=True)"
   ]
  },
  {
   "cell_type": "code",
   "execution_count": null,
   "id": "1c9fb5b4",
   "metadata": {},
   "outputs": [],
   "source": [
    "### `asext` function\n",
    "from asext.io.lmpdata import write_lammmps_data\n",
    "\n",
    "write_lammmps_data(\"testfile/ch4_thang_write.data\", struct2, masses=True)"
   ]
  },
  {
   "cell_type": "markdown",
   "id": "03723302",
   "metadata": {},
   "source": []
  }
 ],
 "metadata": {
  "kernelspec": {
   "display_name": "py13",
   "language": "python",
   "name": "python3"
  },
  "language_info": {
   "codemirror_mode": {
    "name": "ipython",
    "version": 3
   },
   "file_extension": ".py",
   "mimetype": "text/x-python",
   "name": "python",
   "nbconvert_exporter": "python",
   "pygments_lexer": "ipython3",
   "version": "3.13.7"
  }
 },
 "nbformat": 4,
 "nbformat_minor": 5
}
