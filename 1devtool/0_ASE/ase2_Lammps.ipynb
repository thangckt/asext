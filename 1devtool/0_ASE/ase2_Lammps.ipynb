{
    "cells": [
        {
            "cell_type": "markdown",
            "metadata": { },
            "source": [
                "# Run LAMMPS in ASE\n",
                "2 ways to run LAMMPS within ASE:\n",
                "- `ase.calculators.lammpsrun.LAMMPS`: writing a controlling input file that is then run automatically through LAMMPS and the results read back in. \n",
                "- `ase.calculators.lammpslib.LAMMPSlib`: uses the python interface that comes with LAMMPS, loads the LAMMPS program as a python library.\n",
                "\n",
                "> so far, use the first one is easier.\n",
                "\n",
                "REF:\n",
                "- https://wiki.fysik.dtu.dk/ase/ase/calculators/lammps.html"
            ]
        },
        {
            "cell_type": "code",
            "execution_count": 2,
            "metadata": { },
            "outputs": [ ],
            "source": [
                "# ! pip install git+https://gitlab.com/ase/ase@master"
            ]
        },
        {
            "cell_type": "code",
            "execution_count": 1,
            "metadata": { },
            "outputs": [ ],
            "source": [
                "import os\n",
                "from pathlib import Path\n",
                "from glob import glob\n",
                "\n",
                "run_dir = globals()['_dh'][0]"
            ]
        },
        {
            "cell_type": "markdown",
            "metadata": { },
            "source": [
                "## `lammpsrun.LAMMPS` approach\n",
                "- Short docs: https://wiki.fysik.dtu.dk/ase/ase/calculators/lammpsrun.html\n",
                "- For full parameters, see source code: https://gitlab.com/ase/ase/-/blob/master/ase/calculators/lammpsrun.py\n",
                "\n",
                "Requirements:\n",
                "```\n",
                "export ASE_LAMMPSRUN_COMMAND=\"mpirun -np 4 lmp_mpi\"\n",
                "```"
            ]
        },
        {
            "cell_type": "code",
            "execution_count": 2,
            "metadata": { },
            "outputs": [ ],
            "source": [
                "from ase import Atoms\n",
                "d = 2.9\n",
                "L = 10.0\n",
                "atoms = Atoms('Au',\n",
                "              positions=[[0, L / 2, L / 2]],\n",
                "              cell=[d, L, L],\n",
                "              pbc=[1, 0, 0])"
            ]
        }
    ],
    "metadata": {
        "kernelspec": {
            "display_name": "py311ovito",
            "language": "python",
            "name": "python3"
        },
        "language_info": {
            "codemirror_mode": {
                "name": "ipython",
                "version": 3
            },
            "file_extension": ".py",
            "mimetype": "text/x-python",
            "name": "python",
            "nbconvert_exporter": "python",
            "pygments_lexer": "ipython3",
            "version": "3.11.9"
        },
        "toc-autonumbering": false,
        "toc-showmarkdowntxt": false,
        "toc-showtags": false
    },
    "nbformat": 4,
    "nbformat_minor": 4
}
