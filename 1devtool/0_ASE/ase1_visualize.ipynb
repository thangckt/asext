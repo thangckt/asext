{
    "cells": [
        {
            "cell_type": "markdown",
            "metadata": { },
            "source": [
                "# Visualize by ASE\n",
                "\n",
                "- See [matlantis' manual](https://docs.matlantis.com/atomistic-simulation-tutorial/en/Appendix_1_visualization.html)\n",
                "- See [ASE's manual of visualize](https://wiki.fysik.dtu.dk/ase/ase/visualize/visualize.html)"
            ]
        },
        {
            "cell_type": "code",
            "execution_count": 43,
            "metadata": { },
            "outputs": [ ],
            "source": [
                "import os\n",
                "from pathlib import Path\n",
                "from glob import glob\n",
                "\n",
                "run_dir = globals()['_dh'][0]\n",
                "path_drive = Path(run_dir.drive)"
            ]
        },
        {
            "cell_type": "markdown",
            "metadata": { },
            "source": [
                "## view `Atoms`"
            ]
        },
        {
            "cell_type": "code",
            "execution_count": 1,
            "metadata": { },
            "outputs": [
                {
                    "data": {
                        "text/plain": [
                            "<Popen: returncode: None args: ['c:\\\\DevProgram\\\\miniconda3\\\\envs\\\\py11\\\\pyt...>"
                        ]
                    },
                    "execution_count": 1,
                    "metadata": { },
                    "output_type": "execute_result"
                }
            ],
            "source": [
                "from ase.build import bulk\n",
                "from ase.visualize import view\n",
                "\n",
                "atoms = bulk('Si', 'diamond')\n",
                "view(atoms)"
            ]
        },
        {
            "cell_type": "code",
            "execution_count": null,
            "metadata": { },
            "outputs": [ ],
            "source": [ ]
        },
        {
            "cell_type": "markdown",
            "metadata": { },
            "source": [
                "## 2. view Trajectory"
            ]
        },
        {
            "cell_type": "code",
            "execution_count": null,
            "metadata": { },
            "outputs": [ ],
            "source": [
                "path_base = Path(glob(run_dir.drive + \"/*/w23_data_simulation/w24_ML_forcefield\")[0])\n",
                "\n",
                "dir1 = \"test_gpaw/gpaw_MD\"\n",
                "path_data = path_base / dir1\n",
                "os.chdir(path_data)"
            ]
        },
        {
            "cell_type": "code",
            "execution_count": 44,
            "metadata": { },
            "outputs": [ ],
            "source": [
                "from ase.io import Trajectory\n",
                "from ase.visualize import view"
            ]
        },
        {
            "cell_type": "code",
            "execution_count": 46,
            "metadata": { },
            "outputs": [
                {
                    "data": {
                        "text/plain": [
                            "<Popen: returncode: None args: ['c:\\\\DevProgram\\\\miniconda3\\\\envs\\\\py12\\\\pyt...>"
                        ]
                    },
                    "execution_count": 46,
                    "metadata": { },
                    "output_type": "execute_result"
                }
            ],
            "source": [
                "traj = Trajectory('test_Cu.traj')\n",
                "view(traj)\n",
                "# view(traj, viewer='ngl')"
            ]
        },
        {
            "cell_type": "code",
            "execution_count": 38,
            "metadata": { },
            "outputs": [
                {
                    "ename": "StopIteration",
                    "evalue": "",
                    "output_type": "error",
                    "traceback": [
                        "\u001b[1;31m---------------------------------------------------------------------------\u001b[0m",
                        "\u001b[1;31mStopIteration\u001b[0m                             Traceback (most recent call last)",
                        "Cell \u001b[1;32mIn[38], line 1\u001b[0m\n\u001b[1;32m----> 1\u001b[0m \u001b[43mpath_drive\u001b[49m\u001b[38;5;241;43m.\u001b[39;49m\u001b[43mglob\u001b[49m\u001b[43m(\u001b[49m\u001b[38;5;124;43m\"\u001b[39;49m\u001b[38;5;124;43m*/w23_data_simulation/w24_ML_forcefield\u001b[39;49m\u001b[38;5;124;43m\"\u001b[39;49m\u001b[43m)\u001b[49m\u001b[38;5;241;43m.\u001b[39;49m\u001b[38;5;21;43m__next__\u001b[39;49m\u001b[43m(\u001b[49m\u001b[43m)\u001b[49m\n",
                        "\u001b[1;31mStopIteration\u001b[0m: "
                    ]
                }
            ],
            "source": [
                "path_drive.glob(\"*/w23_data_simulation/w24_ML_forcefield\")"
            ]
        },
        {
            "cell_type": "markdown",
            "metadata": { },
            "source": [
                "## 3. use POV-ray\n",
                "See this: https://matsci.org/t/povray-visualisation-help/49678\n",
                "``` sh\n",
                "conda install -c conda-forge povray\n",
                "```\n",
                "NOTE:\n",
                "- `povray` conda is only available for Linux"
            ]
        },
        {
            "cell_type": "code",
            "execution_count": 6,
            "metadata": { },
            "outputs": [
                {
                    "ename": "FileNotFoundError",
                    "evalue": "[WinError 2] The system cannot find the file specified",
                    "output_type": "error",
                    "traceback": [
                        "\u001b[1;31m---------------------------------------------------------------------------\u001b[0m",
                        "\u001b[1;31mFileNotFoundError\u001b[0m                         Traceback (most recent call last)",
                        "Cell \u001b[1;32mIn[6], line 6\u001b[0m\n\u001b[0;32m      4\u001b[0m \u001b[39mfor\u001b[39;00m i,item \u001b[39min\u001b[39;00m \u001b[39menumerate\u001b[39m(traj):\n\u001b[0;32m      5\u001b[0m     pov \u001b[39m=\u001b[39m write(\u001b[39m'\u001b[39m\u001b[39mframe_\u001b[39m\u001b[39m%i\u001b[39;00m\u001b[39m.pov\u001b[39m\u001b[39m'\u001b[39m\u001b[39m%\u001b[39mi, traj[i])  \u001b[39m# **generic_projection_settings,  povray_settings=povray_settings\u001b[39;00m\n\u001b[1;32m----> 6\u001b[0m     pov\u001b[39m.\u001b[39;49mrender()\n",
                        "File \u001b[1;32mc:\\DevProgram\\miniconda3\\envs\\py10ovito\\lib\\site-packages\\ase\\io\\pov.py:568\u001b[0m, in \u001b[0;36mPOVRAYInputs.render\u001b[1;34m(self, povray_executable, stderr, clean_up)\u001b[0m\n\u001b[0;32m    564\u001b[0m \u001b[39mdef\u001b[39;00m \u001b[39mrender\u001b[39m(\u001b[39mself\u001b[39m, povray_executable\u001b[39m=\u001b[39m\u001b[39m'\u001b[39m\u001b[39mpovray\u001b[39m\u001b[39m'\u001b[39m, stderr\u001b[39m=\u001b[39mDEVNULL,\n\u001b[0;32m    565\u001b[0m            clean_up\u001b[39m=\u001b[39m\u001b[39mFalse\u001b[39;00m):\n\u001b[0;32m    566\u001b[0m     cmd \u001b[39m=\u001b[39m [povray_executable, \u001b[39mstr\u001b[39m(\u001b[39mself\u001b[39m\u001b[39m.\u001b[39mpath)]\n\u001b[1;32m--> 568\u001b[0m     check_call(cmd, stderr\u001b[39m=\u001b[39;49mstderr)\n\u001b[0;32m    569\u001b[0m     png_path \u001b[39m=\u001b[39m \u001b[39mself\u001b[39m\u001b[39m.\u001b[39mpath\u001b[39m.\u001b[39mwith_suffix(\u001b[39m'\u001b[39m\u001b[39m.png\u001b[39m\u001b[39m'\u001b[39m)\u001b[39m.\u001b[39mabsolute()\n\u001b[0;32m    570\u001b[0m     \u001b[39mif\u001b[39;00m \u001b[39mnot\u001b[39;00m png_path\u001b[39m.\u001b[39mis_file():\n",
                        "File \u001b[1;32mc:\\DevProgram\\miniconda3\\envs\\py10ovito\\lib\\subprocess.py:364\u001b[0m, in \u001b[0;36mcheck_call\u001b[1;34m(*popenargs, **kwargs)\u001b[0m\n\u001b[0;32m    354\u001b[0m \u001b[39mdef\u001b[39;00m \u001b[39mcheck_call\u001b[39m(\u001b[39m*\u001b[39mpopenargs, \u001b[39m*\u001b[39m\u001b[39m*\u001b[39mkwargs):\n\u001b[0;32m    355\u001b[0m \u001b[39m    \u001b[39m\u001b[39m\"\"\"Run command with arguments.  Wait for command to complete.  If\u001b[39;00m\n\u001b[0;32m    356\u001b[0m \u001b[39m    the exit code was zero then return, otherwise raise\u001b[39;00m\n\u001b[0;32m    357\u001b[0m \u001b[39m    CalledProcessError.  The CalledProcessError object will have the\u001b[39;00m\n\u001b[1;32m   (...)\u001b[0m\n\u001b[0;32m    362\u001b[0m \u001b[39m    check_call([\"ls\", \"-l\"])\u001b[39;00m\n\u001b[0;32m    363\u001b[0m \u001b[39m    \"\"\"\u001b[39;00m\n\u001b[1;32m--> 364\u001b[0m     retcode \u001b[39m=\u001b[39m call(\u001b[39m*\u001b[39mpopenargs, \u001b[39m*\u001b[39m\u001b[39m*\u001b[39mkwargs)\n\u001b[0;32m    365\u001b[0m     \u001b[39mif\u001b[39;00m retcode:\n\u001b[0;32m    366\u001b[0m         cmd \u001b[39m=\u001b[39m kwargs\u001b[39m.\u001b[39mget(\u001b[39m\"\u001b[39m\u001b[39margs\u001b[39m\u001b[39m\"\u001b[39m)\n",
                        "File \u001b[1;32mc:\\DevProgram\\miniconda3\\envs\\py10ovito\\lib\\subprocess.py:345\u001b[0m, in \u001b[0;36mcall\u001b[1;34m(timeout, *popenargs, **kwargs)\u001b[0m\n\u001b[0;32m    337\u001b[0m \u001b[39mdef\u001b[39;00m \u001b[39mcall\u001b[39m(\u001b[39m*\u001b[39mpopenargs, timeout\u001b[39m=\u001b[39m\u001b[39mNone\u001b[39;00m, \u001b[39m*\u001b[39m\u001b[39m*\u001b[39mkwargs):\n\u001b[0;32m    338\u001b[0m \u001b[39m    \u001b[39m\u001b[39m\"\"\"Run command with arguments.  Wait for command to complete or\u001b[39;00m\n\u001b[0;32m    339\u001b[0m \u001b[39m    timeout, then return the returncode attribute.\u001b[39;00m\n\u001b[0;32m    340\u001b[0m \n\u001b[1;32m   (...)\u001b[0m\n\u001b[0;32m    343\u001b[0m \u001b[39m    retcode = call([\"ls\", \"-l\"])\u001b[39;00m\n\u001b[0;32m    344\u001b[0m \u001b[39m    \"\"\"\u001b[39;00m\n\u001b[1;32m--> 345\u001b[0m     \u001b[39mwith\u001b[39;00m Popen(\u001b[39m*\u001b[39mpopenargs, \u001b[39m*\u001b[39m\u001b[39m*\u001b[39mkwargs) \u001b[39mas\u001b[39;00m p:\n\u001b[0;32m    346\u001b[0m         \u001b[39mtry\u001b[39;00m:\n\u001b[0;32m    347\u001b[0m             \u001b[39mreturn\u001b[39;00m p\u001b[39m.\u001b[39mwait(timeout\u001b[39m=\u001b[39mtimeout)\n",
                        "File \u001b[1;32mc:\\DevProgram\\miniconda3\\envs\\py10ovito\\lib\\subprocess.py:966\u001b[0m, in \u001b[0;36mPopen.__init__\u001b[1;34m(self, args, bufsize, executable, stdin, stdout, stderr, preexec_fn, close_fds, shell, cwd, env, universal_newlines, startupinfo, creationflags, restore_signals, start_new_session, pass_fds, user, group, extra_groups, encoding, errors, text, umask, pipesize)\u001b[0m\n\u001b[0;32m    962\u001b[0m         \u001b[39mif\u001b[39;00m \u001b[39mself\u001b[39m\u001b[39m.\u001b[39mtext_mode:\n\u001b[0;32m    963\u001b[0m             \u001b[39mself\u001b[39m\u001b[39m.\u001b[39mstderr \u001b[39m=\u001b[39m io\u001b[39m.\u001b[39mTextIOWrapper(\u001b[39mself\u001b[39m\u001b[39m.\u001b[39mstderr,\n\u001b[0;32m    964\u001b[0m                     encoding\u001b[39m=\u001b[39mencoding, errors\u001b[39m=\u001b[39merrors)\n\u001b[1;32m--> 966\u001b[0m     \u001b[39mself\u001b[39;49m\u001b[39m.\u001b[39;49m_execute_child(args, executable, preexec_fn, close_fds,\n\u001b[0;32m    967\u001b[0m                         pass_fds, cwd, env,\n\u001b[0;32m    968\u001b[0m                         startupinfo, creationflags, shell,\n\u001b[0;32m    969\u001b[0m                         p2cread, p2cwrite,\n\u001b[0;32m    970\u001b[0m                         c2pread, c2pwrite,\n\u001b[0;32m    971\u001b[0m                         errread, errwrite,\n\u001b[0;32m    972\u001b[0m                         restore_signals,\n\u001b[0;32m    973\u001b[0m                         gid, gids, uid, umask,\n\u001b[0;32m    974\u001b[0m                         start_new_session)\n\u001b[0;32m    975\u001b[0m \u001b[39mexcept\u001b[39;00m:\n\u001b[0;32m    976\u001b[0m     \u001b[39m# Cleanup if the child failed starting.\u001b[39;00m\n\u001b[0;32m    977\u001b[0m     \u001b[39mfor\u001b[39;00m f \u001b[39min\u001b[39;00m \u001b[39mfilter\u001b[39m(\u001b[39mNone\u001b[39;00m, (\u001b[39mself\u001b[39m\u001b[39m.\u001b[39mstdin, \u001b[39mself\u001b[39m\u001b[39m.\u001b[39mstdout, \u001b[39mself\u001b[39m\u001b[39m.\u001b[39mstderr)):\n",
                        "File \u001b[1;32mc:\\DevProgram\\miniconda3\\envs\\py10ovito\\lib\\subprocess.py:1435\u001b[0m, in \u001b[0;36mPopen._execute_child\u001b[1;34m(self, args, executable, preexec_fn, close_fds, pass_fds, cwd, env, startupinfo, creationflags, shell, p2cread, p2cwrite, c2pread, c2pwrite, errread, errwrite, unused_restore_signals, unused_gid, unused_gids, unused_uid, unused_umask, unused_start_new_session)\u001b[0m\n\u001b[0;32m   1433\u001b[0m \u001b[39m# Start the process\u001b[39;00m\n\u001b[0;32m   1434\u001b[0m \u001b[39mtry\u001b[39;00m:\n\u001b[1;32m-> 1435\u001b[0m     hp, ht, pid, tid \u001b[39m=\u001b[39m _winapi\u001b[39m.\u001b[39;49mCreateProcess(executable, args,\n\u001b[0;32m   1436\u001b[0m                              \u001b[39m# no special security\u001b[39;49;00m\n\u001b[0;32m   1437\u001b[0m                              \u001b[39mNone\u001b[39;49;00m, \u001b[39mNone\u001b[39;49;00m,\n\u001b[0;32m   1438\u001b[0m                              \u001b[39mint\u001b[39;49m(\u001b[39mnot\u001b[39;49;00m close_fds),\n\u001b[0;32m   1439\u001b[0m                              creationflags,\n\u001b[0;32m   1440\u001b[0m                              env,\n\u001b[0;32m   1441\u001b[0m                              cwd,\n\u001b[0;32m   1442\u001b[0m                              startupinfo)\n\u001b[0;32m   1443\u001b[0m \u001b[39mfinally\u001b[39;00m:\n\u001b[0;32m   1444\u001b[0m     \u001b[39m# Child is launched. Close the parent's copy of those pipe\u001b[39;00m\n\u001b[0;32m   1445\u001b[0m     \u001b[39m# handles that only the child should have open.  You need\u001b[39;00m\n\u001b[1;32m   (...)\u001b[0m\n\u001b[0;32m   1448\u001b[0m     \u001b[39m# pipe will not close when the child process exits and the\u001b[39;00m\n\u001b[0;32m   1449\u001b[0m     \u001b[39m# ReadFile will hang.\u001b[39;00m\n\u001b[0;32m   1450\u001b[0m     \u001b[39mself\u001b[39m\u001b[39m.\u001b[39m_close_pipe_fds(p2cread, p2cwrite,\n\u001b[0;32m   1451\u001b[0m                          c2pread, c2pwrite,\n\u001b[0;32m   1452\u001b[0m                          errread, errwrite)\n",
                        "\u001b[1;31mFileNotFoundError\u001b[0m: [WinError 2] The system cannot find the file specified"
                    ]
                }
            ],
            "source": [
                "from ase.io import Trajectory, write\n",
                "\n",
                "traj = Trajectory('MoS2_5x5x5_vacMo.traj')\n",
                "for i, item in enumerate(traj):\n",
                "    pov = write('frame_%i.pov' % i, traj[i])  # **generic_projection_settings,  povray_settings=povray_settings\n",
                "    pov.render()"
            ]
        },
        {
            "cell_type": "code",
            "execution_count": 7,
            "metadata": { },
            "outputs": [
                {
                    "name": "stdout",
                    "output_type": "stream",
                    "text": [
                        "Collecting package metadata (current_repodata.json): ...working... done\n",
                        "Solving environment: ...working... unsuccessful initial attempt using frozen solve. Retrying with flexible solve.\n",
                        "Collecting package metadata (repodata.json): ...working... done\n",
                        "Solving environment: ...working... unsuccessful initial attempt using frozen solve. Retrying with flexible solve.\n",
                        "\n",
                        "Note: you may need to restart the kernel to use updated packages.\n"
                    ]
                },
                {
                    "name": "stderr",
                    "output_type": "stream",
                    "text": [
                        "\n",
                        "PackagesNotFoundError: The following packages are not available from current channels:\n",
                        "\n",
                        "  - povray\n",
                        "\n",
                        "Current channels:\n",
                        "\n",
                        "  - https://conda.anaconda.org/conda-forge/win-64\n",
                        "  - https://conda.anaconda.org/conda-forge/noarch\n",
                        "  - https://repo.anaconda.com/pkgs/main/win-64\n",
                        "  - https://repo.anaconda.com/pkgs/main/noarch\n",
                        "  - https://repo.anaconda.com/pkgs/r/win-64\n",
                        "  - https://repo.anaconda.com/pkgs/r/noarch\n",
                        "  - https://repo.anaconda.com/pkgs/msys2/win-64\n",
                        "  - https://repo.anaconda.com/pkgs/msys2/noarch\n",
                        "\n",
                        "To search for alternate channels that may provide the conda package you're\n",
                        "looking for, navigate to\n",
                        "\n",
                        "    https://anaconda.org\n",
                        "\n",
                        "and use the search bar at the top of the page.\n",
                        "\n",
                        "\n"
                    ]
                }
            ],
            "source": [
                "conda install -c conda-forge povray"
            ]
        }
    ],
    "metadata": {
        "kernelspec": {
            "display_name": "py311ovito",
            "language": "python",
            "name": "python3"
        },
        "language_info": {
            "codemirror_mode": {
                "name": "ipython",
                "version": 3
            },
            "file_extension": ".py",
            "mimetype": "text/x-python",
            "name": "python",
            "nbconvert_exporter": "python",
            "pygments_lexer": "ipython3",
            "version": "3.11.9"
        },
        "toc-autonumbering": false,
        "toc-showmarkdowntxt": false,
        "toc-showtags": false
    },
    "nbformat": 4,
    "nbformat_minor": 4
}
