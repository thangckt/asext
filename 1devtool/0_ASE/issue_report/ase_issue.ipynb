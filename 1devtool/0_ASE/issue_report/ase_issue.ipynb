{
 "cells": [
  {
   "cell_type": "markdown",
   "id": "23a984ab",
   "metadata": {},
   "source": [
    "# 2025Sep11\n",
    "\n",
    "Wrong `atom types` when convert from `extxyz` to `lammpsdata` file."
   ]
  },
  {
   "cell_type": "code",
   "execution_count": 1,
   "id": "2a5784bd",
   "metadata": {},
   "outputs": [],
   "source": [
    "from ase.io.lammpsdata import write_lammps_data\n",
    "from ase.build import mx2\n",
    "\n",
    "struct = mx2(formula=\"MoS2\", kind=\"2H\", a=3.18, thickness=3.17, size=(1, 1, 1), vacuum=5)\n",
    "\n",
    "### Set atom types\n",
    "struct.arrays[\"types\"] = [2, 1, 3]  # S:1, Mo:2\n",
    "\n",
    "### Write masses section with specorder coressponding to atom types\n",
    "specorder = [\"S\", \"Mo\", \"S\"]\n",
    "write_lammps_data(\"test.lmpdata\", struct, atom_style=\"atomic\", masses=True, specorder=specorder)"
   ]
  },
  {
   "cell_type": "markdown",
   "id": "30eb1336",
   "metadata": {},
   "source": [
    "# 2025Sep11\n",
    "\n",
    "Error when use `constraint.FixedPlane`\n",
    "```python\n",
    "atoms.set_constraint(FixedPlane(indices=idx, direction=[0, 0, 1]))\n",
    "write(output_file, atoms, format=\"extxyz\")\n",
    "```\n",
    "will lead to error:\n",
    "```\n",
    "AttributeError: 'list' object has no attribute 'dtype'\n",
    "``` \n",
    "\n",
    "Note: There is no this issue with version `3.26.0`. But occurs in `3.27.0b1`, after the [!3713 (merged)](https://gitlab.com/ase/ase/-/merge_requests/3713)"
   ]
  },
  {
   "cell_type": "code",
   "execution_count": 1,
   "id": "a8ef97f0",
   "metadata": {},
   "outputs": [
    {
     "ename": "AttributeError",
     "evalue": "'list' object has no attribute 'dtype'",
     "output_type": "error",
     "traceback": [
      "\u001b[31m---------------------------------------------------------------------------\u001b[39m",
      "\u001b[31mAttributeError\u001b[39m                            Traceback (most recent call last)",
      "\u001b[36mCell\u001b[39m\u001b[36m \u001b[39m\u001b[32mIn[1]\u001b[39m\u001b[32m, line 7\u001b[39m\n\u001b[32m      5\u001b[39m struct = bulk(\u001b[33m\"\u001b[39m\u001b[33mCu\u001b[39m\u001b[33m\"\u001b[39m, \u001b[33m\"\u001b[39m\u001b[33mfcc\u001b[39m\u001b[33m\"\u001b[39m, a=\u001b[32m3.6\u001b[39m, cubic=\u001b[38;5;28;01mTrue\u001b[39;00m)\n\u001b[32m      6\u001b[39m struct.set_constraint(FixedPlane(indices=[\u001b[32m0\u001b[39m, \u001b[32m1\u001b[39m], direction=[\u001b[32m0\u001b[39m, \u001b[32m0\u001b[39m, \u001b[32m1\u001b[39m]))\n\u001b[32m----> \u001b[39m\u001b[32m7\u001b[39m \u001b[43mwrite\u001b[49m\u001b[43m(\u001b[49m\u001b[33;43m\"\u001b[39;49m\u001b[33;43mtest.xyz\u001b[39;49m\u001b[33;43m\"\u001b[39;49m\u001b[43m,\u001b[49m\u001b[43m \u001b[49m\u001b[43mstruct\u001b[49m\u001b[43m,\u001b[49m\u001b[43m \u001b[49m\u001b[38;5;28;43mformat\u001b[39;49m\u001b[43m=\u001b[49m\u001b[33;43m\"\u001b[39;49m\u001b[33;43mextxyz\u001b[39;49m\u001b[33;43m\"\u001b[39;49m\u001b[43m)\u001b[49m\n",
      "\u001b[36mFile \u001b[39m\u001b[32m~/app/miniforge/envs/py13/lib/python3.13/site-packages/ase/io/formats.py:686\u001b[39m, in \u001b[36mwrite\u001b[39m\u001b[34m(filename, images, format, parallel, append, **kwargs)\u001b[39m\n\u001b[32m    682\u001b[39m \u001b[38;5;28mformat\u001b[39m = \u001b[38;5;28mformat\u001b[39m \u001b[38;5;129;01mor\u001b[39;00m \u001b[33m'\u001b[39m\u001b[33mjson\u001b[39m\u001b[33m'\u001b[39m  \u001b[38;5;66;03m# default is json\u001b[39;00m\n\u001b[32m    684\u001b[39m io = get_ioformat(\u001b[38;5;28mformat\u001b[39m)\n\u001b[32m--> \u001b[39m\u001b[32m686\u001b[39m \u001b[38;5;28;01mreturn\u001b[39;00m \u001b[43m_write\u001b[49m\u001b[43m(\u001b[49m\u001b[43mfilename\u001b[49m\u001b[43m,\u001b[49m\u001b[43m \u001b[49m\u001b[43mfd\u001b[49m\u001b[43m,\u001b[49m\u001b[43m \u001b[49m\u001b[38;5;28;43mformat\u001b[39;49m\u001b[43m,\u001b[49m\u001b[43m \u001b[49m\u001b[43mio\u001b[49m\u001b[43m,\u001b[49m\u001b[43m \u001b[49m\u001b[43mimages\u001b[49m\u001b[43m,\u001b[49m\n\u001b[32m    687\u001b[39m \u001b[43m              \u001b[49m\u001b[43mparallel\u001b[49m\u001b[43m=\u001b[49m\u001b[43mparallel\u001b[49m\u001b[43m,\u001b[49m\u001b[43m \u001b[49m\u001b[43mappend\u001b[49m\u001b[43m=\u001b[49m\u001b[43mappend\u001b[49m\u001b[43m,\u001b[49m\u001b[43m \u001b[49m\u001b[43m*\u001b[49m\u001b[43m*\u001b[49m\u001b[43mkwargs\u001b[49m\u001b[43m)\u001b[49m\n",
      "\u001b[36mFile \u001b[39m\u001b[32m~/app/miniforge/envs/py13/lib/python3.13/site-packages/ase/parallel.py:261\u001b[39m, in \u001b[36mparallel_function.<locals>.new_func\u001b[39m\u001b[34m(*args, **kwargs)\u001b[39m\n\u001b[32m    255\u001b[39m \u001b[38;5;129m@functools\u001b[39m.wraps(func)\n\u001b[32m    256\u001b[39m \u001b[38;5;28;01mdef\u001b[39;00m\u001b[38;5;250m \u001b[39m\u001b[34mnew_func\u001b[39m(*args, **kwargs):\n\u001b[32m    257\u001b[39m     \u001b[38;5;28;01mif\u001b[39;00m (world.size == \u001b[32m1\u001b[39m \u001b[38;5;129;01mor\u001b[39;00m\n\u001b[32m    258\u001b[39m         args \u001b[38;5;129;01mand\u001b[39;00m \u001b[38;5;28mgetattr\u001b[39m(args[\u001b[32m0\u001b[39m], \u001b[33m'\u001b[39m\u001b[33mserial\u001b[39m\u001b[33m'\u001b[39m, \u001b[38;5;28;01mFalse\u001b[39;00m) \u001b[38;5;129;01mor\u001b[39;00m\n\u001b[32m    259\u001b[39m             \u001b[38;5;129;01mnot\u001b[39;00m kwargs.pop(\u001b[33m'\u001b[39m\u001b[33mparallel\u001b[39m\u001b[33m'\u001b[39m, \u001b[38;5;28;01mTrue\u001b[39;00m)):\n\u001b[32m    260\u001b[39m         \u001b[38;5;66;03m# Disable:\u001b[39;00m\n\u001b[32m--> \u001b[39m\u001b[32m261\u001b[39m         \u001b[38;5;28;01mreturn\u001b[39;00m \u001b[43mfunc\u001b[49m\u001b[43m(\u001b[49m\u001b[43m*\u001b[49m\u001b[43margs\u001b[49m\u001b[43m,\u001b[49m\u001b[43m \u001b[49m\u001b[43m*\u001b[49m\u001b[43m*\u001b[49m\u001b[43mkwargs\u001b[49m\u001b[43m)\u001b[49m\n\u001b[32m    263\u001b[39m     ex = \u001b[38;5;28;01mNone\u001b[39;00m\n\u001b[32m    264\u001b[39m     result = \u001b[38;5;28;01mNone\u001b[39;00m\n",
      "\u001b[36mFile \u001b[39m\u001b[32m~/app/miniforge/envs/py13/lib/python3.13/site-packages/ase/io/formats.py:722\u001b[39m, in \u001b[36m_write\u001b[39m\u001b[34m(filename, fd, format, io, images, parallel, append, **kwargs)\u001b[39m\n\u001b[32m    719\u001b[39m         fd = open_with_compression(filename, mode)\n\u001b[32m    720\u001b[39m         \u001b[38;5;66;03m# XXX remember to re-enable compressed open\u001b[39;00m\n\u001b[32m    721\u001b[39m         \u001b[38;5;66;03m# fd = io.open(filename, mode)\u001b[39;00m\n\u001b[32m--> \u001b[39m\u001b[32m722\u001b[39m     \u001b[38;5;28;01mreturn\u001b[39;00m \u001b[43mio\u001b[49m\u001b[43m.\u001b[49m\u001b[43mwrite\u001b[49m\u001b[43m(\u001b[49m\u001b[43mfd\u001b[49m\u001b[43m,\u001b[49m\u001b[43m \u001b[49m\u001b[43mimages\u001b[49m\u001b[43m,\u001b[49m\u001b[43m \u001b[49m\u001b[43m*\u001b[49m\u001b[43m*\u001b[49m\u001b[43mkwargs\u001b[49m\u001b[43m)\u001b[49m\n\u001b[32m    723\u001b[39m \u001b[38;5;28;01mfinally\u001b[39;00m:\n\u001b[32m    724\u001b[39m     \u001b[38;5;28;01mif\u001b[39;00m open_new \u001b[38;5;129;01mand\u001b[39;00m fd \u001b[38;5;129;01mis\u001b[39;00m \u001b[38;5;129;01mnot\u001b[39;00m \u001b[38;5;28;01mNone\u001b[39;00m:\n",
      "\u001b[36mFile \u001b[39m\u001b[32m~/app/miniforge/envs/py13/lib/python3.13/site-packages/ase/io/formats.py:183\u001b[39m, in \u001b[36mIOFormat._write_wrapper\u001b[39m\u001b[34m(self, *args, **kwargs)\u001b[39m\n\u001b[32m    181\u001b[39m \u001b[38;5;28;01mif\u001b[39;00m function \u001b[38;5;129;01mis\u001b[39;00m \u001b[38;5;28;01mNone\u001b[39;00m:\n\u001b[32m    182\u001b[39m     \u001b[38;5;28;01mraise\u001b[39;00m \u001b[38;5;167;01mValueError\u001b[39;00m(\u001b[33mf\u001b[39m\u001b[33m'\u001b[39m\u001b[33mCannot write to \u001b[39m\u001b[38;5;132;01m{\u001b[39;00m\u001b[38;5;28mself\u001b[39m.name\u001b[38;5;132;01m}\u001b[39;00m\u001b[33m-format\u001b[39m\u001b[33m'\u001b[39m)\n\u001b[32m--> \u001b[39m\u001b[32m183\u001b[39m \u001b[38;5;28;01mreturn\u001b[39;00m \u001b[43mfunction\u001b[49m\u001b[43m(\u001b[49m\u001b[43m*\u001b[49m\u001b[43margs\u001b[49m\u001b[43m,\u001b[49m\u001b[43m \u001b[49m\u001b[43m*\u001b[49m\u001b[43m*\u001b[49m\u001b[43mkwargs\u001b[49m\u001b[43m)\u001b[49m\n",
      "\u001b[36mFile \u001b[39m\u001b[32m~/app/miniforge/envs/py13/lib/python3.13/site-packages/ase/utils/__init__.py:599\u001b[39m, in \u001b[36miofunction.__call__.<locals>.iofunc\u001b[39m\u001b[34m(file, *args, **kwargs)\u001b[39m\n\u001b[32m    597\u001b[39m     \u001b[38;5;28;01melse\u001b[39;00m:\n\u001b[32m    598\u001b[39m         fd = file\n\u001b[32m--> \u001b[39m\u001b[32m599\u001b[39m     obj = \u001b[43mfunc\u001b[49m\u001b[43m(\u001b[49m\u001b[43mfd\u001b[49m\u001b[43m,\u001b[49m\u001b[43m \u001b[49m\u001b[43m*\u001b[49m\u001b[43margs\u001b[49m\u001b[43m,\u001b[49m\u001b[43m \u001b[49m\u001b[43m*\u001b[49m\u001b[43m*\u001b[49m\u001b[43mkwargs\u001b[49m\u001b[43m)\u001b[49m\n\u001b[32m    600\u001b[39m     \u001b[38;5;28;01mreturn\u001b[39;00m obj\n\u001b[32m    601\u001b[39m \u001b[38;5;28;01mfinally\u001b[39;00m:\n",
      "\u001b[36mFile \u001b[39m\u001b[32m~/app/miniforge/envs/py13/lib/python3.13/site-packages/ase/io/extxyz.py:931\u001b[39m, in \u001b[36mwrite_xyz\u001b[39m\u001b[34m(fileobj, images, comment, columns, write_info, write_results, plain, vec_cell)\u001b[39m\n\u001b[32m    928\u001b[39m     \u001b[38;5;28;01melse\u001b[39;00m:\n\u001b[32m    929\u001b[39m         \u001b[38;5;28;01mraise\u001b[39;00m \u001b[38;5;167;01mValueError\u001b[39;00m(\u001b[33mf\u001b[39m\u001b[33m'\u001b[39m\u001b[33mMissing array \u001b[39m\u001b[33m\"\u001b[39m\u001b[38;5;132;01m{\u001b[39;00mcolumn\u001b[38;5;132;01m}\u001b[39;00m\u001b[33m\"\u001b[39m\u001b[33m'\u001b[39m)\n\u001b[32m--> \u001b[39m\u001b[32m931\u001b[39m comm, ncols, dtype, fmt = \u001b[43moutput_column_format\u001b[49m\u001b[43m(\u001b[49m\u001b[43matoms\u001b[49m\u001b[43m,\u001b[49m\n\u001b[32m    932\u001b[39m \u001b[43m                                               \u001b[49m\u001b[43mfr_cols\u001b[49m\u001b[43m,\u001b[49m\n\u001b[32m    933\u001b[39m \u001b[43m                                               \u001b[49m\u001b[43marrays\u001b[49m\u001b[43m,\u001b[49m\n\u001b[32m    934\u001b[39m \u001b[43m                                               \u001b[49m\u001b[43mwrite_info\u001b[49m\u001b[43m)\u001b[49m\n\u001b[32m    936\u001b[39m \u001b[38;5;28;01mif\u001b[39;00m plain \u001b[38;5;129;01mor\u001b[39;00m comment != \u001b[33m'\u001b[39m\u001b[33m'\u001b[39m:\n\u001b[32m    937\u001b[39m     \u001b[38;5;66;03m# override key/value pairs with user-speficied comment string\u001b[39;00m\n\u001b[32m    938\u001b[39m     comm = comment.rstrip()\n",
      "\u001b[36mFile \u001b[39m\u001b[32m~/app/miniforge/envs/py13/lib/python3.13/site-packages/ase/io/extxyz.py:764\u001b[39m, in \u001b[36moutput_column_format\u001b[39m\u001b[34m(atoms, columns, arrays, write_info)\u001b[39m\n\u001b[32m    762\u001b[39m \u001b[38;5;28;01mfor\u001b[39;00m column \u001b[38;5;129;01min\u001b[39;00m columns:\n\u001b[32m    763\u001b[39m     array = arrays[column]\n\u001b[32m--> \u001b[39m\u001b[32m764\u001b[39m     dtype = \u001b[43marray\u001b[49m\u001b[43m.\u001b[49m\u001b[43mdtype\u001b[49m\n\u001b[32m    766\u001b[39m     property_name = PROPERTY_NAME_MAP.get(column, column)\n\u001b[32m    767\u001b[39m     property_type, fmt = fmt_map[dtype.kind]\n",
      "\u001b[31mAttributeError\u001b[39m: 'list' object has no attribute 'dtype'"
     ]
    }
   ],
   "source": [
    "from ase.io import write\n",
    "from ase.build import bulk\n",
    "from ase.constraints import FixedPlane\n",
    "\n",
    "struct = bulk(\"Cu\", \"fcc\", a=3.6, cubic=True)\n",
    "struct.set_constraint(FixedPlane(indices=[0, 1], direction=[0, 0, 1]))\n",
    "write(\"test.xyz\", struct, format=\"extxyz\")"
   ]
  },
  {
   "cell_type": "markdown",
   "id": "fa1f552b",
   "metadata": {},
   "source": [
    "Apply `FrechetCellFilter` and `BFGS` to optimize the structure with constraint:"
   ]
  },
  {
   "cell_type": "code",
   "execution_count": null,
   "id": "1696348a",
   "metadata": {},
   "outputs": [
    {
     "name": "stdout",
     "output_type": "stream",
     "text": [
      "      Step     Time          Energy          fmax\n",
      "BFGS:    0 09:52:45       -0.026755        0.081650\n",
      "BFGS:    1 09:52:45       -0.027026        0.073308\n",
      "BFGS:    2 09:52:45       -0.028146        0.000705\n"
     ]
    }
   ],
   "source": [
    "from ase.optimize import BFGS\n",
    "from ase.filters import FrechetCellFilter\n",
    "from ase.calculators.emt import EMT\n",
    "\n",
    "struct = bulk(\"Cu\", \"fcc\", a=3.6, cubic=True)\n",
    "struct.calc = EMT()\n",
    "\n",
    "struct.set_constraint(FixedPlane(indices=[0, 1], direction=[0, 0, 1]))\n",
    "struct_filter = FrechetCellFilter(struct)\n",
    "opt = BFGS(struct_filter)\n",
    "opt.run()\n",
    "\n",
    "forces = struct.get_forces()\n",
    "stress = struct.get_stress()\n",
    "write(\"test.xyz\", struct, format=\"extxyz\")"
   ]
  }
 ],
 "metadata": {
  "kernelspec": {
   "display_name": "py13",
   "language": "python",
   "name": "python3"
  },
  "language_info": {
   "codemirror_mode": {
    "name": "ipython",
    "version": 3
   },
   "file_extension": ".py",
   "mimetype": "text/x-python",
   "name": "python",
   "nbconvert_exporter": "python",
   "pygments_lexer": "ipython3",
   "version": "3.13.7"
  }
 },
 "nbformat": 4,
 "nbformat_minor": 5
}
