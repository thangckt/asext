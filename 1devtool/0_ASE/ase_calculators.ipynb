{
 "cells": [
  {
   "cell_type": "markdown",
   "id": "beacb026",
   "metadata": {},
   "source": [
    "# Learn ASE's calculator \n",
    "- Docs: https://wiki.fysik.dtu.dk/ase/ase/calculators/calculators.html"
   ]
  },
  {
   "cell_type": "markdown",
   "id": "9ac27478",
   "metadata": {},
   "source": [
    "# Mixed Calculators\n",
    "https://ase-lib.org/ase/calculators/mixing.html#mixing-calculators\n",
    "\n",
    "We can combine multiple calculators in simulations, using `ase.calculators.mixing` module.\n",
    "\n",
    "Example: Use `DFT-D3` for vdW correction with a `DFT` calculator.\n",
    "\n",
    "```python\n",
    "from ase.calculators.mixing import SumCalculator\n",
    "from ase.calculators.dftd3 import DFTD3\n",
    "from ase.calculators.gpaw import GPAW\n",
    "\n",
    "calc1 = GPAW(...)\n",
    "calc2 = DFTD3(...)\n",
    "calc = SumCalculator([calc1, calc2])\n",
    "atoms.calc = calc\n",
    "```"
   ]
  },
  {
   "cell_type": "markdown",
   "id": "8225a073",
   "metadata": {},
   "source": [
    "## Results from `SumCalculator` \n",
    "How to get separate results from each calculator in `SumCalculator`?\n",
    "\n",
    "The workaround:\n",
    "- Make a copy of `Atoms` object.\n",
    "- Then, use `SinglePointCalculator` to store which calculator's results you want.\n",
    "- Access the results from each calculators using `atoms.calc.mixer.calcs`, or simply `calc1.results`, `calc2.results`."
   ]
  },
  {
   "cell_type": "code",
   "execution_count": 8,
   "id": "2c69fc7e",
   "metadata": {},
   "outputs": [
    {
     "data": {
      "text/plain": [
       "{'energy_contributions': [np.float64(4.248476802164584),\n",
       "  np.float64(-0.0804729011506879)],\n",
       " 'energy': np.float64(4.168003901013896),\n",
       " 'forces_contributions': [array([[ 1.12381667e+00,  7.47837920e-01,  1.11022302e-16],\n",
       "         [-3.59453540e+00, -2.83390268e+00,  1.77635684e-15],\n",
       "         [-3.67604734e+00,  1.87168675e+00,  2.66453526e-15],\n",
       "         [ 3.62917712e+00, -1.11569676e+00,  0.00000000e+00],\n",
       "         [ 1.34557997e+00,  9.92459565e-01,  2.19740343e+00],\n",
       "         [ 1.34557997e+00,  9.92459565e-01, -2.19740343e+00],\n",
       "         [-1.36682553e-01, -2.70621940e+00,  2.08171052e-17],\n",
       "         [ 1.26626450e+00,  6.82819487e-01, -1.95088959e+00],\n",
       "         [ 1.26626450e+00,  6.82819487e-01,  1.95088959e+00],\n",
       "         [-1.20453688e+00, -8.37030229e-01, -2.00634032e+00],\n",
       "         [-1.20453688e+00, -8.37030229e-01,  2.00634032e+00],\n",
       "         [-1.60343663e-01,  2.35979652e+00,  0.00000000e+00]]),\n",
       "  array([[-2.49943502e-02, -5.19719115e-03, -8.98210203e-18],\n",
       "         [ 2.09143314e-03,  1.70202644e-03, -3.28917254e-18],\n",
       "         [-1.30972918e-03, -4.92022551e-03, -1.45913220e-18],\n",
       "         [-4.73357360e-03,  1.45612542e-03, -5.27079552e-18],\n",
       "         [ 2.91645062e-03,  9.50171045e-03,  5.86830294e-03],\n",
       "         [ 2.91645062e-03,  9.50171045e-03, -5.86830294e-03],\n",
       "         [ 1.12084405e-03, -2.64150627e-03, -2.96530848e-18],\n",
       "         [ 8.59261134e-03, -1.13676445e-03, -5.73199609e-03],\n",
       "         [ 8.59261134e-03, -1.13676445e-03,  5.73199609e-03],\n",
       "         [ 2.11374948e-03, -3.96919463e-03, -1.16851843e-03],\n",
       "         [ 2.11374948e-03, -3.96919463e-03,  1.16851843e-03],\n",
       "         [ 5.79752865e-04,  8.09268328e-04, -1.48173973e-18]])],\n",
       " 'forces': array([[ 1.09882232e+00,  7.42640729e-01,  1.02040200e-16],\n",
       "        [-3.59244397e+00, -2.83220066e+00,  1.77306767e-15],\n",
       "        [-3.67735707e+00,  1.86676653e+00,  2.66307613e-15],\n",
       "        [ 3.62444354e+00, -1.11424064e+00, -5.27079552e-18],\n",
       "        [ 1.34849643e+00,  1.00196128e+00,  2.20327173e+00],\n",
       "        [ 1.34849643e+00,  1.00196128e+00, -2.20327173e+00],\n",
       "        [-1.35561709e-01, -2.70886091e+00,  1.78517967e-17],\n",
       "        [ 1.27485711e+00,  6.81682723e-01, -1.95662159e+00],\n",
       "        [ 1.27485711e+00,  6.81682723e-01,  1.95662159e+00],\n",
       "        [-1.20242313e+00, -8.40999423e-01, -2.00750883e+00],\n",
       "        [-1.20242313e+00, -8.40999423e-01,  2.00750883e+00],\n",
       "        [-1.59763910e-01,  2.36060579e+00, -1.48173973e-18]])}"
      ]
     },
     "execution_count": 8,
     "metadata": {},
     "output_type": "execute_result"
    }
   ],
   "source": [
    "from ase.build import molecule\n",
    "from dftd3.ase import DFTD3\n",
    "from ase.calculators.emt import EMT\n",
    "from ase.calculators.mixing import SumCalculator\n",
    "\n",
    "atoms = molecule(\"CH3CH2OCH3\")\n",
    "atoms.center(vacuum=5)\n",
    "calc1 = EMT()\n",
    "calc2 = DFTD3(method=\"PBE\", damping=\"d3zero\")\n",
    "atoms.calc = SumCalculator([calc1, calc2])\n",
    "\n",
    "energy = atoms.get_potential_energy()\n",
    "forces = atoms.get_forces()\n",
    "# stress = atoms.get_stress()\n",
    "atoms.calc.results  # total results from both calculators"
   ]
  },
  {
   "cell_type": "code",
   "execution_count": 48,
   "id": "8dc30fba",
   "metadata": {},
   "outputs": [
    {
     "data": {
      "text/plain": [
       "[<ase.calculators.emt.EMT at 0x7fa5a28de900>,\n",
       " <dftd3.ase.DFTD3 at 0x7fa594c4c0e0>]"
      ]
     },
     "execution_count": 48,
     "metadata": {},
     "output_type": "execute_result"
    }
   ],
   "source": [
    "atoms.calc.mixer.calcs"
   ]
  },
  {
   "cell_type": "code",
   "execution_count": 59,
   "id": "019dea5f",
   "metadata": {},
   "outputs": [
    {
     "data": {
      "text/plain": [
       "{'energy': np.float64(4.248476802164584),\n",
       " 'free_energy': np.float64(4.248476802164584),\n",
       " 'energies': array([ 0.36398294, -0.46300406, -0.63315988, -0.49539208,  0.69845806,\n",
       "         0.69845806,  0.70278893,  0.666097  ,  0.666097  ,  0.6865866 ,\n",
       "         0.6865866 ,  0.67097763]),\n",
       " 'forces': array([[ 1.12381667e+00,  7.47837920e-01,  1.11022302e-16],\n",
       "        [-3.59453540e+00, -2.83390268e+00,  1.77635684e-15],\n",
       "        [-3.67604734e+00,  1.87168675e+00,  2.66453526e-15],\n",
       "        [ 3.62917712e+00, -1.11569676e+00,  0.00000000e+00],\n",
       "        [ 1.34557997e+00,  9.92459565e-01,  2.19740343e+00],\n",
       "        [ 1.34557997e+00,  9.92459565e-01, -2.19740343e+00],\n",
       "        [-1.36682553e-01, -2.70621940e+00,  2.08171052e-17],\n",
       "        [ 1.26626450e+00,  6.82819487e-01, -1.95088959e+00],\n",
       "        [ 1.26626450e+00,  6.82819487e-01,  1.95088959e+00],\n",
       "        [-1.20453688e+00, -8.37030229e-01, -2.00634032e+00],\n",
       "        [-1.20453688e+00, -8.37030229e-01,  2.00634032e+00],\n",
       "        [-1.60343663e-01,  2.35979652e+00,  0.00000000e+00]]),\n",
       " 'stress': array([-3.69859487e-04, -2.13282256e-03, -4.60333226e-03,  6.54774892e-19,\n",
       "         1.16880067e-18, -1.71977220e-03])}"
      ]
     },
     "execution_count": 59,
     "metadata": {},
     "output_type": "execute_result"
    }
   ],
   "source": [
    "calc1.results"
   ]
  },
  {
   "cell_type": "code",
   "execution_count": 60,
   "id": "0039f700",
   "metadata": {},
   "outputs": [
    {
     "data": {
      "text/plain": [
       "{'energy': np.float64(-0.0804729011506879),\n",
       " 'free_energy': np.float64(-0.0804729011506879),\n",
       " 'forces': array([[-2.49943502e-02, -5.19719115e-03, -8.98550486e-18],\n",
       "        [ 2.09143314e-03,  1.70202644e-03, -3.45608120e-18],\n",
       "        [-1.30972918e-03, -4.92022551e-03, -1.28490746e-18],\n",
       "        [-4.73357360e-03,  1.45612542e-03, -5.13372806e-18],\n",
       "        [ 2.91645062e-03,  9.50171045e-03,  5.86830294e-03],\n",
       "        [ 2.91645062e-03,  9.50171045e-03, -5.86830294e-03],\n",
       "        [ 1.12084405e-03, -2.64150627e-03, -2.89044629e-18],\n",
       "        [ 8.59261134e-03, -1.13676445e-03, -5.73199609e-03],\n",
       "        [ 8.59261134e-03, -1.13676445e-03,  5.73199609e-03],\n",
       "        [ 2.11374948e-03, -3.96919463e-03, -1.16851843e-03],\n",
       "        [ 2.11374948e-03, -3.96919463e-03,  1.16851843e-03],\n",
       "        [ 5.79752865e-04,  8.09268328e-04, -1.48242030e-18]])}"
      ]
     },
     "execution_count": 60,
     "metadata": {},
     "output_type": "execute_result"
    }
   ],
   "source": [
    "calc2.results"
   ]
  },
  {
   "cell_type": "markdown",
   "id": "7d1c70a7",
   "metadata": {},
   "source": [
    "*Note that*: `calc2.results` give exactly the same results as `DFTD3` calculator when used alone. (see below)\n",
    "\n",
    "Now write only the results from `calc1`"
   ]
  },
  {
   "cell_type": "code",
   "execution_count": 10,
   "id": "1ef4c218",
   "metadata": {},
   "outputs": [],
   "source": [
    "from ase.calculators.singlepoint import SinglePointCalculator\n",
    "\n",
    "atoms1 = atoms.copy()\n",
    "# atoms1.calc = calc1\n",
    "atoms1.calc = SinglePointCalculator(atoms1)  # use this safer than above line\n",
    "atoms1.calc.results = calc1.results\n",
    "# atoms1.write(\"atoms1.extxyz\", format=\"extxyz\")  # only EMT results"
   ]
  },
  {
   "cell_type": "code",
   "execution_count": 11,
   "id": "2f371af3",
   "metadata": {},
   "outputs": [
    {
     "data": {
      "text/plain": [
       "{'energy': np.float64(4.248476802164584),\n",
       " 'free_energy': np.float64(4.248476802164584),\n",
       " 'energies': array([ 0.36398294, -0.46300406, -0.63315988, -0.49539208,  0.69845806,\n",
       "         0.69845806,  0.70278893,  0.666097  ,  0.666097  ,  0.6865866 ,\n",
       "         0.6865866 ,  0.67097763]),\n",
       " 'forces': array([[ 1.12381667e+00,  7.47837920e-01,  1.11022302e-16],\n",
       "        [-3.59453540e+00, -2.83390268e+00,  1.77635684e-15],\n",
       "        [-3.67604734e+00,  1.87168675e+00,  2.66453526e-15],\n",
       "        [ 3.62917712e+00, -1.11569676e+00,  0.00000000e+00],\n",
       "        [ 1.34557997e+00,  9.92459565e-01,  2.19740343e+00],\n",
       "        [ 1.34557997e+00,  9.92459565e-01, -2.19740343e+00],\n",
       "        [-1.36682553e-01, -2.70621940e+00,  2.08171052e-17],\n",
       "        [ 1.26626450e+00,  6.82819487e-01, -1.95088959e+00],\n",
       "        [ 1.26626450e+00,  6.82819487e-01,  1.95088959e+00],\n",
       "        [-1.20453688e+00, -8.37030229e-01, -2.00634032e+00],\n",
       "        [-1.20453688e+00, -8.37030229e-01,  2.00634032e+00],\n",
       "        [-1.60343663e-01,  2.35979652e+00,  0.00000000e+00]]),\n",
       " 'stress': array([-3.69859487e-04, -2.13282256e-03, -4.60333226e-03,  6.54774892e-19,\n",
       "         1.16880067e-18, -1.71977220e-03])}"
      ]
     },
     "execution_count": 11,
     "metadata": {},
     "output_type": "execute_result"
    }
   ],
   "source": [
    "atoms1.calc.results"
   ]
  },
  {
   "cell_type": "markdown",
   "id": "3f7f9854",
   "metadata": {},
   "source": [
    "# Calculators for `DFT-D3` vdW correction\n",
    "There are many packages for `DFT-D3` vdW correction calculator in ASE. Some of them support GPU acceleration.\n",
    "\n",
    "Why need DFT-D3? -> Read the blog: https://tech.preferred.jp/en/blog/oss-pytorch-dftd3/\n",
    "\n",
    "Also read the note: [../0_GPAW/gpaw1_vdW_correction.ipynb](../0_GPAW/gpaw1_vdW_correction.ipynb)\n",
    "\n",
    "Let see some of them. There are 2 best candidates:\n",
    "- `simple-dftd3` (CPU only), and `torch-dftd3` (CPU and GPU)\n",
    "- The resutls are almost the same (slightly different maybe due different default parameters)\n",
    "- `torch-dftd3` is much faster, specially for large system."
   ]
  },
  {
   "cell_type": "code",
   "execution_count": null,
   "id": "992618ec",
   "metadata": {},
   "outputs": [
    {
     "data": {
      "text/plain": [
       "<Popen: returncode: None args: ['/home/tha/app/miniforge/envs/py13/bin/pytho...>"
      ]
     },
     "execution_count": 24,
     "metadata": {},
     "output_type": "execute_result"
    }
   ],
   "source": [
    "from ase.build import molecule\n",
    "from ase.visualize import view\n",
    "\n",
    "atoms = molecule(\"CH3CH2OCH3\")\n",
    "atoms.center(vacuum=5)\n",
    "view(atoms)"
   ]
  },
  {
   "cell_type": "markdown",
   "id": "4079b248",
   "metadata": {},
   "source": [
    "## Built-in DFTD3 in ASE\n",
    "NOTE: Implemation in ASE require compile the DFTD3 code separately. It is not included in the ASE package.\n",
    "\n",
    "The [DFTD3](https://www.chemie.uni-bonn.de/grimme/de/software/dft-d3/) calculator in ASE"
   ]
  },
  {
   "cell_type": "markdown",
   "id": "141dd600",
   "metadata": {},
   "source": [
    "## `simple-dftd3` package (CPU only)\n",
    "- pip: https://pypi.org/project/dftd3/\n",
    "- docs: https://dftd3.readthedocs.io/en/latest/index.html\n",
    "- ASE integrate: https://github.com/dftd3/simple-dftd3/blob/main/python/dftd3/ase.py\n",
    "\n",
    "damping options: `d3zero`, `d3zerom`, `d3bj`, `d3bjm`, `d3op`. See https://github.com/dftd3/simple-dftd3/blob/main/python/dftd3/ase.py#L111\n",
    "\n",
    "Install\n",
    "```bash\n",
    "pip install dftd3\n",
    "conda install -c conda-forge dftd3-python\n",
    "``` "
   ]
  },
  {
   "cell_type": "code",
   "execution_count": 52,
   "id": "1277e9a1",
   "metadata": {},
   "outputs": [
    {
     "name": "stdout",
     "output_type": "stream",
     "text": [
      "energy:\n",
      " -0.0804729011506879\n",
      "forces:\n",
      " [[-2.49943502e-02 -5.19719115e-03 -8.98482430e-18]\n",
      " [ 2.09143314e-03  1.70202644e-03 -3.38172943e-18]\n",
      " [-1.30972918e-03 -4.92022551e-03 -1.30668555e-18]\n",
      " [-4.73357360e-03  1.45612542e-03 -5.08295947e-18]\n",
      " [ 2.91645062e-03  9.50171045e-03  5.86830294e-03]\n",
      " [ 2.91645062e-03  9.50171045e-03 -5.86830294e-03]\n",
      " [ 1.12084405e-03 -2.64150627e-03 -2.97619753e-18]\n",
      " [ 8.59261134e-03 -1.13676445e-03 -5.73199609e-03]\n",
      " [ 8.59261134e-03 -1.13676445e-03  5.73199609e-03]\n",
      " [ 2.11374948e-03 -3.96919463e-03 -1.16851843e-03]\n",
      " [ 2.11374948e-03 -3.96919463e-03  1.16851843e-03]\n",
      " [ 5.79752865e-04  8.09268328e-04 -1.48173973e-18]]\n"
     ]
    }
   ],
   "source": [
    "from dftd3.ase import DFTD3\n",
    "\n",
    "atoms = molecule(\"CH3CH2OCH3\")\n",
    "atoms.center(vacuum=5)\n",
    "atoms.calc = DFTD3(method=\"PBE\", damping=\"d3zero\")\n",
    "\n",
    "energy = atoms.get_potential_energy()\n",
    "forces = atoms.get_forces()\n",
    "print(\"energy:\\n\", energy)\n",
    "print(\"forces:\\n\", forces)"
   ]
  },
  {
   "cell_type": "code",
   "execution_count": null,
   "id": "54c9b00f",
   "metadata": {},
   "outputs": [
    {
     "name": "stdout",
     "output_type": "stream",
     "text": [
      "96.2 μs ± 470 ns per loop (mean ± std. dev. of 7 runs, 10,000 loops each)\n"
     ]
    }
   ],
   "source": [
    "%%timeit\n",
    "energy = atoms.get_potential_energy()\n",
    "forces = atoms.get_forces()"
   ]
  },
  {
   "cell_type": "markdown",
   "id": "9e61afec",
   "metadata": {},
   "source": [
    "## `torch-dftd` package (GPU/CPU)\n",
    "- GitHub: https://github.com/pfnet-research/torch-dftd\n",
    "- Docs: https://tech.preferred.jp/en/blog/oss-pytorch-dftd3/\n",
    "\n",
    "This package may have more features than `simple-dftd3`.\n",
    "\n",
    "damping method. Choices: \"zero\", \"bj\", \"zerom\", \"bjm\". See all parameters of `torch-dftd3`: https://github.com/pfnet-research/torch-dftd/blob/master/torch_dftd/torch_dftd3_calculator.py#L17\n",
    "\n",
    "```bash\n",
    "pip install torch-dftd\n",
    "```"
   ]
  },
  {
   "cell_type": "code",
   "execution_count": 38,
   "id": "77854594",
   "metadata": {},
   "outputs": [
    {
     "name": "stdout",
     "output_type": "stream",
     "text": [
      "energy:\n",
      " -0.08060236183241912\n",
      "forces:\n",
      " [[-2.50326227e-02 -5.34063205e-03  9.26720745e-09]\n",
      " [ 2.10378878e-03  1.75449520e-03 -1.04496705e-08]\n",
      " [-1.29321474e-03 -4.95797023e-03  1.49870272e-09]\n",
      " [-4.77362843e-03  1.46504515e-03 -8.25661495e-09]\n",
      " [ 2.97987252e-03  9.58887115e-03  5.96211106e-03]\n",
      " [ 2.97986763e-03  9.58886929e-03 -5.96210686e-03]\n",
      " [ 1.01956818e-03 -2.59048585e-03  1.78744367e-10]\n",
      " [ 8.55891872e-03 -1.09402917e-03 -5.76877268e-03]\n",
      " [ 8.55891779e-03 -1.09402905e-03  5.76877315e-03]\n",
      " [ 2.11785152e-03 -4.03105887e-03 -1.20648509e-03]\n",
      " [ 2.11784756e-03 -4.03107610e-03  1.20649592e-03]\n",
      " [ 6.62833510e-04  7.42002914e-04 -8.19474177e-09]]\n"
     ]
    }
   ],
   "source": [
    "from torch_dftd.torch_dftd3_calculator import TorchDFTD3Calculator\n",
    "\n",
    "atoms = molecule(\"CH3CH2OCH3\")\n",
    "atoms.center(vacuum=50)\n",
    "# device=\"cuda:0\" for fast GPU computation.\n",
    "atoms.calc = TorchDFTD3Calculator(device=\"cpu\", damping=\"zero\")\n",
    "\n",
    "energy = atoms.get_potential_energy()\n",
    "forces = atoms.get_forces()\n",
    "print(\"energy:\\n\", energy)\n",
    "print(\"forces:\\n\", forces)"
   ]
  },
  {
   "cell_type": "code",
   "execution_count": null,
   "id": "7ae9dcda",
   "metadata": {},
   "outputs": [
    {
     "name": "stdout",
     "output_type": "stream",
     "text": [
      "95.7 μs ± 387 ns per loop (mean ± std. dev. of 7 runs, 10,000 loops each)\n"
     ]
    }
   ],
   "source": [
    "%%timeit\n",
    "energy = atoms.get_potential_energy()\n",
    "forces = atoms.get_forces()"
   ]
  },
  {
   "cell_type": "markdown",
   "id": "5df31d18",
   "metadata": {},
   "source": [
    "Whether GPU is faster?"
   ]
  },
  {
   "cell_type": "code",
   "execution_count": null,
   "id": "a0cbba63",
   "metadata": {},
   "outputs": [
    {
     "name": "stdout",
     "output_type": "stream",
     "text": [
      "13.2 ms ± 323 μs per loop (mean ± std. dev. of 7 runs, 100 loops each)\n"
     ]
    }
   ],
   "source": [
    "%%timeit\n",
    "atoms.calc = TorchDFTD3Calculator(device=\"cuda:0\", damping=\"zero\")\n",
    "\n",
    "energy = atoms.get_potential_energy()\n",
    "forces = atoms.get_forces()"
   ]
  },
  {
   "cell_type": "code",
   "execution_count": 17,
   "id": "f262732d",
   "metadata": {},
   "outputs": [
    {
     "name": "stdout",
     "output_type": "stream",
     "text": [
      "Help on class TorchDFTD3Calculator in module torch_dftd.torch_dftd3_calculator:\n",
      "\n",
      "class TorchDFTD3Calculator(ase.calculators.calculator.Calculator)\n",
      " |  TorchDFTD3Calculator(\n",
      " |      dft: Optional[ase.calculators.calculator.Calculator] = None,\n",
      " |      atoms: ase.atoms.Atoms = None,\n",
      " |      damping: str = 'zero',\n",
      " |      xc: str = 'pbe',\n",
      " |      old: bool = False,\n",
      " |      device: str = 'cpu',\n",
      " |      cutoff: float = 50.27183500356491,\n",
      " |      cnthr: float = 21.167088422553647,\n",
      " |      abc: bool = False,\n",
      " |      dtype: torch.dtype = torch.float32,\n",
      " |      bidirectional: bool = True,\n",
      " |      cutoff_smoothing: str = 'none',\n",
      " |      **kwargs\n",
      " |  )\n",
      " |\n",
      " |  ase compatible DFTD3 calculator using pytorch\n",
      " |\n",
      " |  Args:\n",
      " |      dft (Calculator or None): base dft calculator can be set here\n",
      " |      atoms (Atoms):\n",
      " |      damping (str): damping method. \"zero\", \"bj\", \"zerom\", \"bjm\"\n",
      " |      xc (str): exchange correlation functional\n",
      " |      old (bool): Use DFTD2 method when `True`, DFTD3 method is used when `False`\n",
      " |      device (str): torch device. Ex. \"cuda:0\" to use GPU ID 0\n",
      " |      cutoff (float): cutoff distance in angstrom. Default value is 95bohr := 50 angstrom.\n",
      " |      cnthr (float): coordination number cutoff distance in angstrom.\n",
      " |          Default value is 40bohr := 21 angstrom.\n",
      " |      abc (bool): ATM 3-body interaction\n",
      " |      dtype (dtype): internal calculation is done in this precision.\n",
      " |      bidirectional (bool): calculated `edge_index` is bidirectional or not.\n",
      " |      cutoff_smoothing (str): cutoff smoothing makes gradient smooth at `cutoff` distance\n",
      " |      **kwargs:\n",
      " |\n",
      " |  Method resolution order:\n",
      " |      TorchDFTD3Calculator\n",
      " |      ase.calculators.calculator.Calculator\n",
      " |      ase.calculators.calculator.BaseCalculator\n",
      " |      ase.calculators.abc.GetPropertiesMixin\n",
      " |      abc.ABC\n",
      " |      builtins.object\n",
      " |\n",
      " |  Methods defined here:\n",
      " |\n",
      " |  __init__(\n",
      " |      self,\n",
      " |      dft: Optional[ase.calculators.calculator.Calculator] = None,\n",
      " |      atoms: ase.atoms.Atoms = None,\n",
      " |      damping: str = 'zero',\n",
      " |      xc: str = 'pbe',\n",
      " |      old: bool = False,\n",
      " |      device: str = 'cpu',\n",
      " |      cutoff: float = 50.27183500356491,\n",
      " |      cnthr: float = 21.167088422553647,\n",
      " |      abc: bool = False,\n",
      " |      dtype: torch.dtype = torch.float32,\n",
      " |      bidirectional: bool = True,\n",
      " |      cutoff_smoothing: str = 'none',\n",
      " |      **kwargs\n",
      " |  )\n",
      " |      Basic calculator implementation.\n",
      " |\n",
      " |      restart: str\n",
      " |          Prefix for restart file.  May contain a directory. Default\n",
      " |          is None: don't restart.\n",
      " |      ignore_bad_restart_file: bool\n",
      " |          Deprecated, please do not use.\n",
      " |          Passing more than one positional argument to Calculator()\n",
      " |          is deprecated and will stop working in the future.\n",
      " |          Ignore broken or missing restart file.  By default, it is an\n",
      " |          error if the restart file is missing or broken.\n",
      " |      directory: str or PurePath\n",
      " |          Working directory in which to read and write files and\n",
      " |          perform calculations.\n",
      " |      label: str\n",
      " |          Name used for all files.  Not supported by all calculators.\n",
      " |          May contain a directory, but please use the directory parameter\n",
      " |          for that instead.\n",
      " |      atoms: Atoms object\n",
      " |          Optional Atoms object to which the calculator will be\n",
      " |          attached.  When restarting, atoms will get its positions and\n",
      " |          unit-cell updated from file.\n",
      " |\n",
      " |  batch_calculate(\n",
      " |      self,\n",
      " |      atoms_list=None,\n",
      " |      properties=['energy'],\n",
      " |      system_changes=['positions', 'numbers', 'cell', 'pbc', 'initial_charges', 'initial_magmoms']\n",
      " |  )\n",
      " |\n",
      " |  calculate(\n",
      " |      self,\n",
      " |      atoms=None,\n",
      " |      properties=['energy'],\n",
      " |      system_changes=['positions', 'numbers', 'cell', 'pbc', 'initial_charges', 'initial_magmoms']\n",
      " |  )\n",
      " |      Do the calculation.\n",
      " |\n",
      " |      properties: list of str\n",
      " |          List of what needs to be calculated.  Can be any combination\n",
      " |          of 'energy', 'forces', 'stress', 'dipole', 'charges', 'magmom'\n",
      " |          and 'magmoms'.\n",
      " |      system_changes: list of str\n",
      " |          List of what has changed since last calculation.  Can be\n",
      " |          any combination of these six: 'positions', 'numbers', 'cell',\n",
      " |          'pbc', 'initial_charges' and 'initial_magmoms'.\n",
      " |\n",
      " |      Subclasses need to implement this, but can ignore properties\n",
      " |      and system_changes if they want.  Calculated properties should\n",
      " |      be inserted into results dictionary like shown in this dummy\n",
      " |      example::\n",
      " |\n",
      " |          self.results = {'energy': 0.0,\n",
      " |                          'forces': np.zeros((len(atoms), 3)),\n",
      " |                          'stress': np.zeros(6),\n",
      " |                          'dipole': np.zeros(3),\n",
      " |                          'charges': np.zeros(len(atoms)),\n",
      " |                          'magmom': 0.0,\n",
      " |                          'magmoms': np.zeros(len(atoms))}\n",
      " |\n",
      " |      The subclass implementation should first call this\n",
      " |      implementation to set the atoms attribute and create any missing\n",
      " |      directories.\n",
      " |\n",
      " |  get_property(self, name, atoms=None, allow_calculation=True)\n",
      " |      Get the named property.\n",
      " |\n",
      " |  ----------------------------------------------------------------------\n",
      " |  Data and other attributes defined here:\n",
      " |\n",
      " |  __abstractmethods__ = frozenset()\n",
      " |\n",
      " |  __annotations__ = {}\n",
      " |\n",
      " |  implemented_properties = ['energy', 'forces', 'stress']\n",
      " |\n",
      " |  name = 'TorchDFTD3Calculator'\n",
      " |\n",
      " |  ----------------------------------------------------------------------\n",
      " |  Methods inherited from ase.calculators.calculator.Calculator:\n",
      " |\n",
      " |  band_structure(self)\n",
      " |      Create band-structure object for plotting.\n",
      " |\n",
      " |  calculate_numerical_forces(self, atoms, d=0.001)\n",
      " |      Calculate numerical forces using finite difference.\n",
      " |\n",
      " |      All atoms will be displaced by +d and -d in all directions.\n",
      " |\n",
      " |      .. deprecated:: 3.24.0\n",
      " |\n",
      " |  calculate_numerical_stress(self, atoms, d=1e-06, voigt=True)\n",
      " |      Calculate numerical stress using finite difference.\n",
      " |\n",
      " |      .. deprecated:: 3.24.0\n",
      " |\n",
      " |  check_state(self, atoms, tol=1e-15)\n",
      " |      Check for any system changes since last calculation.\n",
      " |\n",
      " |  get_atoms(self)\n",
      " |\n",
      " |  get_default_parameters(self)\n",
      " |\n",
      " |  read(self, label)\n",
      " |      Read atoms, parameters and calculated properties from output file.\n",
      " |\n",
      " |      Read result from self.label file.  Raise ReadError if the file\n",
      " |      is not there.  If the file is corrupted or contains an error\n",
      " |      message from the calculation, a ReadError should also be\n",
      " |      raised.  In case of succes, these attributes must set:\n",
      " |\n",
      " |      atoms: Atoms object\n",
      " |          The state of the atoms from last calculation.\n",
      " |      parameters: Parameters object\n",
      " |          The parameter dictionary.\n",
      " |      results: dict\n",
      " |          Calculated properties like energy and forces.\n",
      " |\n",
      " |      The FileIOCalculator.read() method will typically read atoms\n",
      " |      and parameters and get the results dict by calling the\n",
      " |      read_results() method.\n",
      " |\n",
      " |  reset(self)\n",
      " |      Clear all information from old calculation.\n",
      " |\n",
      " |  set(self, **kwargs)\n",
      " |      Set parameters like set(key1=value1, key2=value2, ...).\n",
      " |\n",
      " |      A dictionary containing the parameters that have been changed\n",
      " |      is returned.\n",
      " |\n",
      " |      Subclasses must implement a set() method that will look at the\n",
      " |      chaneged parameters and decide if a call to reset() is needed.\n",
      " |      If the changed parameters are harmless, like a change in\n",
      " |      verbosity, then there is no need to call reset().\n",
      " |\n",
      " |      The special keyword 'parameters' can be used to read\n",
      " |      parameters from a file.\n",
      " |\n",
      " |  set_label(self, label)\n",
      " |      Set label and convert label to directory and prefix.\n",
      " |\n",
      " |      Examples:\n",
      " |\n",
      " |      * label='abc': (directory='.', prefix='abc')\n",
      " |      * label='dir1/abc': (directory='dir1', prefix='abc')\n",
      " |      * label=None: (directory='.', prefix=None)\n",
      " |\n",
      " |  todict(self, skip_default=True)\n",
      " |      Obtain a dictionary of parameter information\n",
      " |\n",
      " |  ----------------------------------------------------------------------\n",
      " |  Class methods inherited from ase.calculators.calculator.Calculator:\n",
      " |\n",
      " |  read_atoms(restart, **kwargs)\n",
      " |\n",
      " |  ----------------------------------------------------------------------\n",
      " |  Data descriptors inherited from ase.calculators.calculator.Calculator:\n",
      " |\n",
      " |  directory\n",
      " |\n",
      " |  label\n",
      " |\n",
      " |  ----------------------------------------------------------------------\n",
      " |  Data and other attributes inherited from ase.calculators.calculator.Calculator:\n",
      " |\n",
      " |  default_parameters = {}\n",
      " |\n",
      " |  discard_results_on_any_change = False\n",
      " |\n",
      " |  ignored_changes = set()\n",
      " |\n",
      " |  ----------------------------------------------------------------------\n",
      " |  Methods inherited from ase.calculators.calculator.BaseCalculator:\n",
      " |\n",
      " |  calculate_properties(self, atoms, properties)\n",
      " |      This method is experimental; currently for internal use.\n",
      " |\n",
      " |  calculation_required(self, atoms, properties)\n",
      " |\n",
      " |  export_properties(self)\n",
      " |\n",
      " |  ----------------------------------------------------------------------\n",
      " |  Methods inherited from ase.calculators.abc.GetPropertiesMixin:\n",
      " |\n",
      " |  get_charges(self, atoms=None)\n",
      " |\n",
      " |  get_dipole_moment(self, atoms=None)\n",
      " |\n",
      " |  get_forces(self, atoms=None)\n",
      " |\n",
      " |  get_magnetic_moment(self, atoms=None)\n",
      " |\n",
      " |  get_magnetic_moments(self, atoms=None)\n",
      " |      Calculate magnetic moments projected onto atoms.\n",
      " |\n",
      " |  get_potential_energies(self, atoms=None)\n",
      " |\n",
      " |  get_potential_energy(self, atoms=None, force_consistent=False)\n",
      " |\n",
      " |  get_stress(self, atoms=None)\n",
      " |\n",
      " |  get_stresses(self, atoms=None)\n",
      " |      the calculator should return intensive stresses, i.e., such that\n",
      " |      stresses.sum(axis=0) == stress\n",
      " |\n",
      " |  ----------------------------------------------------------------------\n",
      " |  Data descriptors inherited from ase.calculators.abc.GetPropertiesMixin:\n",
      " |\n",
      " |  __dict__\n",
      " |      dictionary for instance variables\n",
      " |\n",
      " |  __weakref__\n",
      " |      list of weak references to the object\n",
      "\n"
     ]
    }
   ],
   "source": [
    "help(TorchDFTD3Calculator)"
   ]
  },
  {
   "cell_type": "markdown",
   "id": "a4d8be35",
   "metadata": {},
   "source": [
    "## `sevennet` package (GPU only)\n",
    "- GitHub: https://github.com/MDIL-SNU/SevenNet/blob/main/sevenn/calculator.py#L330\n",
    "\n",
    "Limite features."
   ]
  }
 ],
 "metadata": {
  "kernelspec": {
   "display_name": "py13",
   "language": "python",
   "name": "python3"
  },
  "language_info": {
   "codemirror_mode": {
    "name": "ipython",
    "version": 3
   },
   "file_extension": ".py",
   "mimetype": "text/x-python",
   "name": "python",
   "nbconvert_exporter": "python",
   "pygments_lexer": "ipython3",
   "version": "3.13.5"
  }
 },
 "nbformat": 4,
 "nbformat_minor": 5
}
