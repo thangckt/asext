{
 "cells": [
  {
   "cell_type": "code",
   "execution_count": 4,
   "metadata": {},
   "outputs": [],
   "source": [
    "# ! pip install git+https://gitlab.com/ase/ase@master\n",
    "# ! pip install ase"
   ]
  },
  {
   "cell_type": "code",
   "execution_count": null,
   "metadata": {},
   "outputs": [],
   "source": [
    "run_dir = globals()[\"_dh\"][0]"
   ]
  },
  {
   "cell_type": "markdown",
   "metadata": {},
   "source": [
    "# Create the `Atoms` object\n",
    "The `Atoms` object have many useful methods and attributes. Read more [`ase.Atoms` module](https://wiki.fysik.dtu.dk/ase/ase/atoms.html#module-ase.atoms)\n",
    "- get properties from `Atoms` object: `atoms.get_<prop>()`\n",
    "- set properties for `Atoms` object: `atoms.set_<prop>()`\n",
    "\n",
    "ASE support many way to build models, such as\n",
    "- bulk\n",
    "- molecule\n",
    "- surface\n",
    "- nanotube\n",
    "- ... See more in [`ase.build`](https://wiki.fysik.dtu.dk/ase/ase/build/build.html)\n",
    "\n",
    "REF:\n",
    "- See [`ase.build`](https://wiki.fysik.dtu.dk/ase/ase/build/build.html)\n",
    "- See [`ase.Atoms`](https://wiki.fysik.dtu.dk/ase/ase/atoms.html#module-ase.atoms)"
   ]
  },
  {
   "cell_type": "markdown",
   "metadata": {},
   "source": [
    "## Build Atoms\n",
    "Create the [`ase.Atoms`](https://wiki.fysik.dtu.dk/ase/ase/atoms.html#module-ase.atoms) object"
   ]
  },
  {
   "cell_type": "code",
   "execution_count": 2,
   "metadata": {},
   "outputs": [],
   "source": [
    "from ase import Atoms\n",
    "\n",
    "d = 2.9\n",
    "L = 10.0\n",
    "atoms = Atoms('Au',\n",
    "              positions=[[0, L / 2, L / 2]],\n",
    "              cell=[d, L, L],\n",
    "              pbc=[1, 0, 0])"
   ]
  },
  {
   "cell_type": "markdown",
   "metadata": {},
   "source": [
    "## Build models\n",
    "\n",
    "### build `molecule`\n",
    "Create `molecule` using `ase.build.molecule`"
   ]
  },
  {
   "cell_type": "code",
   "execution_count": 18,
   "metadata": {},
   "outputs": [],
   "source": [
    "from ase.build import molecule\n",
    "\n",
    "atoms = molecule('CH4')\n",
    "atoms.center(vacuum=4.0)"
   ]
  },
  {
   "cell_type": "code",
   "execution_count": 19,
   "metadata": {},
   "outputs": [
    {
     "data": {
      "text/plain": [
       "['C', 'H', 'H', 'H', 'H']"
      ]
     },
     "execution_count": 19,
     "metadata": {},
     "output_type": "execute_result"
    }
   ],
   "source": [
    "symbol = atoms.get_chemical_symbols()\n",
    "symbol"
   ]
  },
  {
   "cell_type": "code",
   "execution_count": 20,
   "metadata": {},
   "outputs": [
    {
     "data": {
      "text/plain": [
       "{'C', 'H'}"
      ]
     },
     "execution_count": 20,
     "metadata": {},
     "output_type": "execute_result"
    }
   ],
   "source": [
    "s = set(symbol)\n",
    "s"
   ]
  },
  {
   "cell_type": "code",
   "execution_count": 22,
   "metadata": {},
   "outputs": [
    {
     "data": {
      "text/plain": [
       "['H', 'C']"
      ]
     },
     "execution_count": 22,
     "metadata": {},
     "output_type": "execute_result"
    }
   ],
   "source": [
    "## This will change the order of the elements\n",
    "list(s)"
   ]
  },
  {
   "cell_type": "code",
   "execution_count": 9,
   "metadata": {},
   "outputs": [
    {
     "data": {
      "text/plain": [
       "['C', 'H']"
      ]
     },
     "execution_count": 9,
     "metadata": {},
     "output_type": "execute_result"
    }
   ],
   "source": [
    "## Use this to maintain the order\n",
    "s = list(dict.fromkeys(symbol))\n",
    "s"
   ]
  },
  {
   "cell_type": "code",
   "execution_count": 10,
   "metadata": {},
   "outputs": [
    {
     "data": {
      "text/plain": [
       "{'C': None, 'H': None}"
      ]
     },
     "execution_count": 10,
     "metadata": {},
     "output_type": "execute_result"
    }
   ],
   "source": [
    "dict.fromkeys(symbol)"
   ]
  },
  {
   "cell_type": "code",
   "execution_count": 12,
   "metadata": {},
   "outputs": [
    {
     "data": {
      "text/plain": [
       "array([12.011,  1.008,  1.008,  1.008,  1.008])"
      ]
     },
     "execution_count": 12,
     "metadata": {},
     "output_type": "execute_result"
    }
   ],
   "source": [
    "atoms.get_masses()"
   ]
  },
  {
   "cell_type": "code",
   "execution_count": 17,
   "metadata": {},
   "outputs": [
    {
     "data": {
      "text/plain": [
       "Symbols('CH4')"
      ]
     },
     "execution_count": 17,
     "metadata": {},
     "output_type": "execute_result"
    }
   ],
   "source": [
    "atoms.symbols"
   ]
  },
  {
   "cell_type": "markdown",
   "metadata": {},
   "source": [
    "### Build `bulk`\n",
    "Create `bulk` models using `ase.build.bulk`"
   ]
  },
  {
   "cell_type": "code",
   "execution_count": 3,
   "metadata": {},
   "outputs": [
    {
     "data": {
      "text/plain": [
       "<Popen: returncode: None args: ['/home/tha/app/miniforge/envs/py13/bin/pytho...>"
      ]
     },
     "execution_count": 3,
     "metadata": {},
     "output_type": "execute_result"
    }
   ],
   "source": [
    "from ase.build import bulk\n",
    "from ase.visualize import view\n",
    "\n",
    "a1 = bulk(\"Cu\", \"fcc\")\n",
    "a2 = bulk(\"Cu\", \"fcc\", orthorhombic=True)\n",
    "a3 = bulk(\"Cu\", \"fcc\", cubic=True)\n",
    "view(a3)"
   ]
  },
  {
   "cell_type": "markdown",
   "metadata": {},
   "source": [
    "### Build `surface`\n",
    "Build [surfaces](https://wiki.fysik.dtu.dk/ase/ase/build/surface.html#ase.build.mx2) \n",
    "\n",
    "Using `ase.build.surface` to build non-common surfaces"
   ]
  },
  {
   "cell_type": "markdown",
   "metadata": {},
   "source": [
    "### Build `MX2`"
   ]
  },
  {
   "cell_type": "code",
   "execution_count": 4,
   "metadata": {},
   "outputs": [
    {
     "data": {
      "text/plain": [
       "<Popen: returncode: None args: ['/home/tha/app/miniforge/envs/py13/bin/pytho...>"
      ]
     },
     "execution_count": 4,
     "metadata": {},
     "output_type": "execute_result"
    }
   ],
   "source": [
    "from ase.build import mx2\n",
    "\n",
    "atoms = mx2(formula=\"MoS2\", kind=\"2H\", a=3.18, thickness=3.19, size=(3, 3, 1), vacuum=None)\n",
    "view(atoms)"
   ]
  },
  {
   "cell_type": "markdown",
   "metadata": {},
   "source": [
    "### Build `graphene`\n",
    "Note: in func `build.graphene()` does have the vector c of the cell. So, to model 3d box or Graphite, we need to manually add 3rd vector to the cell.\n",
    "- Build with `thickness=0.0` \n",
    "- Then add the 3rd vector to the cell"
   ]
  },
  {
   "cell_type": "code",
   "execution_count": 10,
   "metadata": {},
   "outputs": [
    {
     "data": {
      "text/plain": [
       "<Popen: returncode: None args: ['/home/tha/app/miniforge/envs/py13/bin/pytho...>"
      ]
     },
     "execution_count": 10,
     "metadata": {},
     "output_type": "execute_result"
    }
   ],
   "source": [
    "from ase.build import graphene\n",
    "\n",
    "struct = graphene(formula=\"C2\", a=2.46, thickness=0.0, size=(3, 3, 1), vacuum=None)\n",
    "view(struct)"
   ]
  },
  {
   "cell_type": "code",
   "execution_count": 13,
   "metadata": {},
   "outputs": [
    {
     "data": {
      "text/plain": [
       "<Popen: returncode: None args: ['/home/tha/app/miniforge/envs/py13/bin/pytho...>"
      ]
     },
     "execution_count": 13,
     "metadata": {},
     "output_type": "execute_result"
    }
   ],
   "source": [
    "### Add thickness to the cell\n",
    "c = struct.cell\n",
    "c[2, 2] = 3.5\n",
    "struct.set_cell(c)\n",
    "struct.center()\n",
    "view(struct)"
   ]
  },
  {
   "cell_type": "code",
   "execution_count": 5,
   "metadata": {},
   "outputs": [
    {
     "name": "stdout",
     "output_type": "stream",
     "text": [
      "Help on function graphene in module ase.build.surface:\n",
      "\n",
      "graphene(formula='C2', a=2.46, thickness=0.0, size=(1, 1, 1), vacuum=None)\n",
      "    Create a graphene monolayer structure.\n",
      "\n",
      "    Parameters\n",
      "    ----------\n",
      "    thickness : float, default: 0.0\n",
      "        Thickness of the layer; maybe for a buckled structure like silicene.\n",
      "\n"
     ]
    }
   ],
   "source": [
    "help(graphene)"
   ]
  },
  {
   "cell_type": "markdown",
   "metadata": {},
   "source": [
    "## General 3D mat\n",
    "Build 3D mat using [`ase.lattice.BravaisLattice`](https://wiki.fysik.dtu.dk/ase/ase/lattice.html#module-ase.lattice)\n",
    "- Bravais lattice objects, which represent primitive cells and Brillouin zone information which is useful for calculating band structures\n",
    "- A general framework for building Atoms objects based Bravais lattice and basis\n",
    "\n",
    "There are 14 3D Bravais classes: CUB, FCC, BCC, …, and TRI, and five 2D classes."
   ]
  },
  {
   "cell_type": "markdown",
   "metadata": {},
   "source": [
    "### Crystal structures"
   ]
  },
  {
   "cell_type": "code",
   "execution_count": 19,
   "metadata": {},
   "outputs": [
    {
     "data": {
      "text/plain": [
       "<Popen: returncode: None args: ['c:\\\\DevProgram\\\\miniconda3\\\\envs\\\\py11\\\\pyt...>"
      ]
     },
     "execution_count": 19,
     "metadata": {},
     "output_type": "execute_result"
    }
   ],
   "source": [
    "from ase.lattice.cubic import FaceCenteredCubic\n",
    "from ase.visualize import view\n",
    "\n",
    "atoms = FaceCenteredCubic(directions=[[1,-1,0], [1,1,-2], [1,1,1]],\n",
    "                          size=(3,3,3), symbol='Cu', pbc=(1,1,0))\n",
    "view(atoms)"
   ]
  },
  {
   "cell_type": "code",
   "execution_count": 31,
   "metadata": {},
   "outputs": [
    {
     "data": {
      "text/plain": [
       "<Popen: returncode: None args: ['c:\\\\DevProgram\\\\miniconda3\\\\envs\\\\py11\\\\pyt...>"
      ]
     },
     "execution_count": 31,
     "metadata": {},
     "output_type": "execute_result"
    }
   ],
   "source": [
    "from ase.lattice.cubic import BodyCenteredCubic\n",
    "\n",
    "atoms = BodyCenteredCubic(directions=[[1,0,0], [0,1,0], [1,1,1]],\n",
    "                          size=(2,2,3), symbol='Cu', pbc=(1,1,0),\n",
    "                          latticeconstant=4.0)\n",
    "view(atoms)"
   ]
  },
  {
   "cell_type": "markdown",
   "metadata": {},
   "source": [
    "### Brillouin zone information\n",
    "Bravais lattice objects, which represent primitive cells and Brillouin zone information which is useful for calculating band structures"
   ]
  },
  {
   "cell_type": "code",
   "execution_count": 12,
   "metadata": {},
   "outputs": [
    {
     "data": {
      "text/plain": [
       "('a',)"
      ]
     },
     "execution_count": 12,
     "metadata": {},
     "output_type": "execute_result"
    }
   ],
   "source": [
    "from ase.lattice import FCC\n",
    "\n",
    "FCC.parameters"
   ]
  },
  {
   "cell_type": "code",
   "execution_count": 28,
   "metadata": {},
   "outputs": [
    {
     "data": {
      "text/plain": [
       "BandPath(path='GXWKGLUWLK,UX', cell=[3x3], special_points={GKLUWX}, kpts=[101x3])"
      ]
     },
     "execution_count": 28,
     "metadata": {},
     "output_type": "execute_result"
    }
   ],
   "source": [
    "FCC(2).bandpath()"
   ]
  },
  {
   "cell_type": "markdown",
   "metadata": {},
   "source": [
    "# Atoms's methods\n",
    "- See: https://wiki.fysik.dtu.dk/ase/ase/atoms.html#list-of-all-methods"
   ]
  },
  {
   "cell_type": "markdown",
   "metadata": {},
   "source": [
    "## Count atoms"
   ]
  },
  {
   "cell_type": "code",
   "execution_count": 2,
   "metadata": {},
   "outputs": [
    {
     "data": {
      "text/plain": [
       "<Popen: returncode: None args: ['/home/tha/app/miniforge/envs/py13/bin/pytho...>"
      ]
     },
     "execution_count": 2,
     "metadata": {},
     "output_type": "execute_result"
    }
   ],
   "source": [
    "from ase.build import mx2\n",
    "from ase.visualize import view\n",
    "\n",
    "struct = mx2(formula=\"MoS2\", kind=\"2H\", a=3.18, thickness=3.19, size=(3, 3, 1), vacuum=5)\n",
    "struct.symbols.count(\"Mo\")\n",
    "view(struct)"
   ]
  },
  {
   "cell_type": "code",
   "execution_count": null,
   "metadata": {},
   "outputs": [
    {
     "data": {
      "text/plain": [
       "{'Mo': 9, 'S': 18}"
      ]
     },
     "execution_count": 17,
     "metadata": {},
     "output_type": "execute_result"
    }
   ],
   "source": [
    "struct.symbols.formula.count()"
   ]
  },
  {
   "cell_type": "code",
   "execution_count": null,
   "metadata": {},
   "outputs": [
    {
     "data": {
      "text/plain": [
       "'Mo9S18'"
      ]
     },
     "execution_count": 18,
     "metadata": {},
     "output_type": "execute_result"
    }
   ],
   "source": [
    "struct.symbols.formula.format(\"ab2\")"
   ]
  },
  {
   "cell_type": "code",
   "execution_count": null,
   "metadata": {},
   "outputs": [
    {
     "data": {
      "text/plain": [
       "'Mo9S18'"
      ]
     },
     "execution_count": 19,
     "metadata": {},
     "output_type": "execute_result"
    }
   ],
   "source": [
    "struct.get_chemical_formula()"
   ]
  },
  {
   "cell_type": "code",
   "execution_count": null,
   "metadata": {},
   "outputs": [
    {
     "name": "stdout",
     "output_type": "stream",
     "text": [
      "Help on Atoms in module ase.atoms object:\n",
      "\n",
      "class Atoms(builtins.object)\n",
      " |  Atoms(\n",
      " |      symbols=None,\n",
      " |      positions=None,\n",
      " |      numbers=None,\n",
      " |      tags=None,\n",
      " |      momenta=None,\n",
      " |      masses=None,\n",
      " |      magmoms=None,\n",
      " |      charges=None,\n",
      " |      scaled_positions=None,\n",
      " |      cell=None,\n",
      " |      pbc=None,\n",
      " |      celldisp=None,\n",
      " |      constraint=None,\n",
      " |      calculator=None,\n",
      " |      info=None,\n",
      " |      velocities=None\n",
      " |  )\n",
      " |\n",
      " |  Atoms object.\n",
      " |\n",
      " |  The Atoms object can represent an isolated molecule, or a\n",
      " |  periodically repeated structure.  It has a unit cell and\n",
      " |  there may be periodic boundary conditions along any of the three\n",
      " |  unit cell axes.\n",
      " |  Information about the atoms (atomic numbers and position) is\n",
      " |  stored in ndarrays.  Optionally, there can be information about\n",
      " |  tags, momenta, masses, magnetic moments and charges.\n",
      " |\n",
      " |  In order to calculate energies, forces and stresses, a calculator\n",
      " |  object has to attached to the atoms object.\n",
      " |\n",
      " |  Parameters\n",
      " |  ----------\n",
      " |  symbols : str | list[str] | list[Atom]\n",
      " |      Chemical formula, a list of chemical symbols, or list of\n",
      " |      :class:`~ase.Atom` objects (mutually exclusive with ``numbers``).\n",
      " |\n",
      " |      - ``'H2O'``\n",
      " |      - ``'COPt12'``\n",
      " |      - ``['H', 'H', 'O']``\n",
      " |      - ``[Atom('Ne', (x, y, z)), ...]``\n",
      " |\n",
      " |  positions : list[tuple[float, float, float]]\n",
      " |      Atomic positions in Cartesian coordinates\n",
      " |      (mutually exclusive with ``scaled_positions``).\n",
      " |      Anything that can be converted to an ndarray of shape (n, 3) works:\n",
      " |      [(x0, y0, z0), (x1, y1, z1), ...].\n",
      " |  scaled_positions : list[tuple[float, float, float]]\n",
      " |      Atomic positions in units of the unit cell\n",
      " |      (mutually exclusive with ``positions``).\n",
      " |  numbers : list[int]\n",
      " |      Atomic numbers (mutually exclusive with ``symbols``).\n",
      " |  tags : list[int]\n",
      " |      Special purpose tags.\n",
      " |  momenta : list[tuple[float, float, float]]\n",
      " |      Momenta for all atoms in Cartesian coordinates\n",
      " |      (mutually exclusive with ``velocities``).\n",
      " |  velocities : list[tuple[float, float, float]]\n",
      " |      Velocities for all atoms in Cartesian coordinates\n",
      " |      (mutually exclusive with ``momenta``).\n",
      " |  masses : list[float]\n",
      " |      Atomic masses in atomic units.\n",
      " |  magmoms : list[float] | list[tuple[float, float, float]]\n",
      " |      Magnetic moments.  Can be either a single value for each atom\n",
      " |      for collinear calculations or three numbers for each atom for\n",
      " |      non-collinear calculations.\n",
      " |  charges : list[float]\n",
      " |      Initial atomic charges.\n",
      " |  cell : 3x3 matrix or length 3 or 6 vector, default: (0, 0, 0)\n",
      " |      Unit cell vectors.  Can also be given as just three\n",
      " |      numbers for orthorhombic cells, or 6 numbers, where\n",
      " |      first three are lengths of unit cell vectors, and the\n",
      " |      other three are angles between them (in degrees), in following order:\n",
      " |      [len(a), len(b), len(c), angle(b,c), angle(a,c), angle(a,b)].\n",
      " |      First vector will lie in x-direction, second in xy-plane,\n",
      " |      and the third one in z-positive subspace.\n",
      " |  celldisp : tuple[float, float, float], default: (0, 0, 0)\n",
      " |      Unit cell displacement vector. To visualize a displaced cell\n",
      " |      around the center of mass of a Systems of atoms.\n",
      " |  pbc : bool | tuple[bool, bool, bool], default: False\n",
      " |      Periodic boundary conditions flags.\n",
      " |\n",
      " |      - ``True``\n",
      " |      - ``False``\n",
      " |      - ``0``\n",
      " |      - ``1``\n",
      " |      - ``(1, 1, 0)``\n",
      " |      - ``(True, False, False)``\n",
      " |\n",
      " |  constraint : constraint object(s)\n",
      " |      One or more ASE constraints applied during structure optimization.\n",
      " |  calculator : calculator object\n",
      " |      ASE calculator to obtain energies and atomic forces.\n",
      " |  info : dict | None, default: None\n",
      " |      Dictionary with additional information about the system.\n",
      " |      The following keys may be used by ASE:\n",
      " |\n",
      " |      - spacegroup: :class:`~ase.spacegroup.Spacegroup` instance\n",
      " |      - unit_cell: 'conventional' | 'primitive' | int | 3 ints\n",
      " |      - adsorbate_info: Information about special adsorption sites\n",
      " |\n",
      " |      Items in the info attribute survives copy and slicing and can\n",
      " |      be stored in and retrieved from trajectory files given that the\n",
      " |      key is a string, the value is JSON-compatible and, if the value is a\n",
      " |      user-defined object, its base class is importable.  One should\n",
      " |      not make any assumptions about the existence of keys.\n",
      " |\n",
      " |  Examples\n",
      " |  --------\n",
      " |  >>> from ase import Atom\n",
      " |\n",
      " |  N2 molecule (These three are equivalent):\n",
      " |\n",
      " |  >>> d = 1.104  # N2 bondlength\n",
      " |  >>> a = Atoms('N2', [(0, 0, 0), (0, 0, d)])\n",
      " |  >>> a = Atoms(numbers=[7, 7], positions=[(0, 0, 0), (0, 0, d)])\n",
      " |  >>> a = Atoms([Atom('N', (0, 0, 0)), Atom('N', (0, 0, d))])\n",
      " |\n",
      " |  FCC gold:\n",
      " |\n",
      " |  >>> a = 4.05  # Gold lattice constant\n",
      " |  >>> b = a / 2\n",
      " |  >>> fcc = Atoms('Au',\n",
      " |  ...             cell=[(0, b, b), (b, 0, b), (b, b, 0)],\n",
      " |  ...             pbc=True)\n",
      " |\n",
      " |  Hydrogen wire:\n",
      " |\n",
      " |  >>> d = 0.9  # H-H distance\n",
      " |  >>> h = Atoms('H', positions=[(0, 0, 0)],\n",
      " |  ...           cell=(d, 0, 0),\n",
      " |  ...           pbc=(1, 0, 0))\n",
      " |\n",
      " |  Methods defined here:\n",
      " |\n",
      " |  __add__(self, other)\n",
      " |\n",
      " |  __ase_optimizable__(self)\n",
      " |\n",
      " |  __delitem__(self, i)\n",
      " |\n",
      " |  __eq__(self, other)\n",
      " |      Check for identity of two atoms objects.\n",
      " |\n",
      " |      Identity means: same positions, atomic numbers, unit cell and\n",
      " |      periodic boundary conditions.\n",
      " |\n",
      " |  __getitem__(self, i)\n",
      " |      Return a subset of the atoms.\n",
      " |\n",
      " |      i -- scalar integer, list of integers, or slice object\n",
      " |      describing which atoms to return.\n",
      " |\n",
      " |      If i is a scalar, return an Atom object. If i is a list or a\n",
      " |      slice, return an Atoms object with the same cell, pbc, and\n",
      " |      other associated info as the original Atoms object. The\n",
      " |      indices of the constraints will be shuffled so that they match\n",
      " |      the indexing in the subset returned.\n",
      " |\n",
      " |  __iadd__(self, other)\n",
      " |\n",
      " |  __imul__(self, m)\n",
      " |      In-place repeat of atoms.\n",
      " |\n",
      " |  __init__(\n",
      " |      self,\n",
      " |      symbols=None,\n",
      " |      positions=None,\n",
      " |      numbers=None,\n",
      " |      tags=None,\n",
      " |      momenta=None,\n",
      " |      masses=None,\n",
      " |      magmoms=None,\n",
      " |      charges=None,\n",
      " |      scaled_positions=None,\n",
      " |      cell=None,\n",
      " |      pbc=None,\n",
      " |      celldisp=None,\n",
      " |      constraint=None,\n",
      " |      calculator=None,\n",
      " |      info=None,\n",
      " |      velocities=None\n",
      " |  )\n",
      " |      Initialize self.  See help(type(self)) for accurate signature.\n",
      " |\n",
      " |  __iter__(self)\n",
      " |\n",
      " |  __len__(self)\n",
      " |\n",
      " |  __mul__(self, rep)\n",
      " |\n",
      " |  __ne__(self, other)\n",
      " |      Check if two atoms objects are not equal.\n",
      " |\n",
      " |      Any differences in positions, atomic numbers, unit cell or\n",
      " |      periodic boundary condtions make atoms objects not equal.\n",
      " |\n",
      " |  __repr__(self)\n",
      " |      Return repr(self).\n",
      " |\n",
      " |  append(self, atom)\n",
      " |      Append atom to end.\n",
      " |\n",
      " |  center(self, vacuum=None, axis=(0, 1, 2), about=None)\n",
      " |      Center atoms in unit cell.\n",
      " |\n",
      " |      Centers the atoms in the unit cell, so there is the same\n",
      " |      amount of vacuum on all sides.\n",
      " |\n",
      " |      vacuum: float (default: None)\n",
      " |          If specified adjust the amount of vacuum when centering.\n",
      " |          If vacuum=10.0 there will thus be 10 Angstrom of vacuum\n",
      " |          on each side.\n",
      " |      axis: int or sequence of ints\n",
      " |          Axis or axes to act on.  Default: Act on all axes.\n",
      " |      about: float or array (default: None)\n",
      " |          If specified, center the atoms about <about>.\n",
      " |          I.e., about=(0., 0., 0.) (or just \"about=0.\", interpreted\n",
      " |          identically), to center about the origin.\n",
      " |\n",
      " |  copy(self)\n",
      " |      Return a copy.\n",
      " |\n",
      " |  edit(self)\n",
      " |      Modify atoms interactively through ASE's GUI viewer.\n",
      " |\n",
      " |      Conflicts leading to undesirable behaviour might arise\n",
      " |      when matplotlib has been pre-imported with certain\n",
      " |      incompatible backends and while trying to use the\n",
      " |      plot feature inside the interactive GUI. To circumvent,\n",
      " |      please set matplotlib.use('gtk') before calling this\n",
      " |      method.\n",
      " |\n",
      " |  euler_rotate(self, phi=0.0, theta=0.0, psi=0.0, center=(0, 0, 0))\n",
      " |      Rotate atoms via Euler angles (in degrees).\n",
      " |\n",
      " |      See e.g http://mathworld.wolfram.com/EulerAngles.html for explanation.\n",
      " |\n",
      " |      Parameters:\n",
      " |\n",
      " |      center :\n",
      " |          The point to rotate about. A sequence of length 3 with the\n",
      " |          coordinates, or 'COM' to select the center of mass, 'COP' to\n",
      " |          select center of positions or 'COU' to select center of cell.\n",
      " |      phi :\n",
      " |          The 1st rotation angle around the z axis.\n",
      " |      theta :\n",
      " |          Rotation around the x axis.\n",
      " |      psi :\n",
      " |          2nd rotation around the z axis.\n",
      " |\n",
      " |  extend(self, other)\n",
      " |      Extend atoms object by appending atoms from *other*.\n",
      " |\n",
      " |  get_all_distances(self, mic=False, vector=False)\n",
      " |      Return distances of all of the atoms with all of the atoms.\n",
      " |\n",
      " |      Use mic=True to use the Minimum Image Convention.\n",
      " |\n",
      " |  get_angle(self, a1, a2, a3, mic=False)\n",
      " |      Get angle formed by three atoms.\n",
      " |\n",
      " |      Calculate angle in degrees between the vectors a2->a1 and\n",
      " |      a2->a3.\n",
      " |\n",
      " |      Use mic=True to use the Minimum Image Convention and calculate the\n",
      " |      angle across periodic boundaries.\n",
      " |\n",
      " |  get_angles(self, indices, mic=False)\n",
      " |      Get angle formed by three atoms for multiple groupings.\n",
      " |\n",
      " |      Calculate angle in degrees between vectors between atoms a2->a1\n",
      " |      and a2->a3, where a1, a2, and a3 are in each row of indices.\n",
      " |\n",
      " |      Use mic=True to use the Minimum Image Convention and calculate\n",
      " |      the angle across periodic boundaries.\n",
      " |\n",
      " |  get_angular_momentum(self)\n",
      " |      Get total angular momentum with respect to the center of mass.\n",
      " |\n",
      " |  get_array(self, name, copy=True)\n",
      " |      Get an array.\n",
      " |\n",
      " |      Returns a copy unless the optional argument copy is false.\n",
      " |\n",
      " |  get_atomic_numbers(self)\n",
      " |      Get integer array of atomic numbers.\n",
      " |\n",
      " |  get_calculator(self)\n",
      " |      Get currently attached calculator object.\n",
      " |\n",
      " |      .. deprecated:: 3.20.0\n",
      " |          Please use the equivalent ``atoms.calc`` instead of\n",
      " |          ``atoms.get_calculator()``.\n",
      " |\n",
      " |  get_cell(self, complete=False)\n",
      " |      Get the three unit cell vectors as a `class`:ase.cell.Cell` object.\n",
      " |\n",
      " |      The Cell object resembles a 3x3 ndarray, and cell[i, j]\n",
      " |      is the jth Cartesian coordinate of the ith cell vector.\n",
      " |\n",
      " |  get_cell_lengths_and_angles(self)\n",
      " |      Get unit cell parameters. Sequence of 6 numbers.\n",
      " |\n",
      " |      First three are unit cell vector lengths and second three\n",
      " |      are angles between them::\n",
      " |\n",
      " |          [len(a), len(b), len(c), angle(b,c), angle(a,c), angle(a,b)]\n",
      " |\n",
      " |      in degrees.\n",
      " |\n",
      " |      .. deprecated:: 3.21.0\n",
      " |          Please use ``atoms.cell.cellpar()`` instead\n",
      " |\n",
      " |  get_celldisp(self)\n",
      " |      Get the unit cell displacement vectors.\n",
      " |\n",
      " |  get_center_of_mass(self, scaled=False, indices=None)\n",
      " |      Get the center of mass.\n",
      " |\n",
      " |      Parameters\n",
      " |      ----------\n",
      " |      scaled : bool\n",
      " |          If True, the center of mass in scaled coordinates is returned.\n",
      " |      indices : list | slice | str, default: None\n",
      " |          If specified, the center of mass of a subset of atoms is returned.\n",
      " |\n",
      " |  get_charges(self)\n",
      " |      Get calculated charges.\n",
      " |\n",
      " |  get_chemical_formula(self, mode='hill', empirical=False)\n",
      " |      Get the chemical formula as a string based on the chemical symbols.\n",
      " |\n",
      " |      Parameters:\n",
      " |\n",
      " |      mode: str\n",
      " |          There are four different modes available:\n",
      " |\n",
      " |          'all': The list of chemical symbols are contracted to a string,\n",
      " |          e.g. ['C', 'H', 'H', 'H', 'O', 'H'] becomes 'CHHHOH'.\n",
      " |\n",
      " |          'reduce': The same as 'all' where repeated elements are contracted\n",
      " |          to a single symbol and a number, e.g. 'CHHHOCHHH' is reduced to\n",
      " |          'CH3OCH3'.\n",
      " |\n",
      " |          'hill': The list of chemical symbols are contracted to a string\n",
      " |          following the Hill notation (alphabetical order with C and H\n",
      " |          first), e.g. 'CHHHOCHHH' is reduced to 'C2H6O' and 'SOOHOHO' to\n",
      " |          'H2O4S'. This is default.\n",
      " |\n",
      " |          'metal': The list of chemical symbols (alphabetical metals,\n",
      " |          and alphabetical non-metals)\n",
      " |\n",
      " |      empirical, bool (optional, default=False)\n",
      " |          Divide the symbol counts by their greatest common divisor to yield\n",
      " |          an empirical formula. Only for mode `metal` and `hill`.\n",
      " |\n",
      " |  get_chemical_symbols(self)\n",
      " |      Get list of chemical symbol strings.\n",
      " |\n",
      " |      Equivalent to ``list(atoms.symbols)``.\n",
      " |\n",
      " |  get_dihedral(self, a0, a1, a2, a3, mic=False)\n",
      " |      Calculate dihedral angle.\n",
      " |\n",
      " |      Calculate dihedral angle (in degrees) between the vectors a0->a1\n",
      " |      and a2->a3.\n",
      " |\n",
      " |      Use mic=True to use the Minimum Image Convention and calculate the\n",
      " |      angle across periodic boundaries.\n",
      " |\n",
      " |  get_dihedrals(self, indices, mic=False)\n",
      " |      Calculate dihedral angles.\n",
      " |\n",
      " |      Calculate dihedral angles (in degrees) between the list of vectors\n",
      " |      a0->a1 and a2->a3, where a0, a1, a2 and a3 are in each row of indices.\n",
      " |\n",
      " |      Use mic=True to use the Minimum Image Convention and calculate the\n",
      " |      angles across periodic boundaries.\n",
      " |\n",
      " |  get_dipole_moment(self)\n",
      " |      Calculate the electric dipole moment for the atoms object.\n",
      " |\n",
      " |      Only available for calculators which has a get_dipole_moment()\n",
      " |      method.\n",
      " |\n",
      " |  get_distance(self, a0, a1, mic=False, vector=False)\n",
      " |      Return distance between two atoms.\n",
      " |\n",
      " |      Use mic=True to use the Minimum Image Convention.\n",
      " |      vector=True gives the distance vector (from a0 to a1).\n",
      " |\n",
      " |  get_distances(self, a, indices, mic=False, vector=False)\n",
      " |      Return distances of atom No.i with a list of atoms.\n",
      " |\n",
      " |      Use mic=True to use the Minimum Image Convention.\n",
      " |      vector=True gives the distance vector (from a to self[indices]).\n",
      " |\n",
      " |  get_forces(self, apply_constraint=True, md=False)\n",
      " |      Calculate atomic forces.\n",
      " |\n",
      " |      Ask the attached calculator to calculate the forces and apply\n",
      " |      constraints.  Use *apply_constraint=False* to get the raw\n",
      " |      forces.\n",
      " |\n",
      " |      For molecular dynamics (md=True) we don't apply the constraint\n",
      " |      to the forces but to the momenta. When holonomic constraints for\n",
      " |      rigid linear triatomic molecules are present, ask the constraints\n",
      " |      to redistribute the forces within each triple defined in the\n",
      " |      constraints (required for molecular dynamics with this type of\n",
      " |      constraints).\n",
      " |\n",
      " |  get_global_number_of_atoms(self)\n",
      " |      Returns the global number of atoms in a distributed-atoms parallel\n",
      " |      simulation.\n",
      " |\n",
      " |      DO NOT USE UNLESS YOU KNOW WHAT YOU ARE DOING!\n",
      " |\n",
      " |      Equivalent to len(atoms) in the standard ASE Atoms class.  You should\n",
      " |      normally use len(atoms) instead.  This function's only purpose is to\n",
      " |      make compatibility between ASE and Asap easier to maintain by having a\n",
      " |      few places in ASE use this function instead.  It is typically only\n",
      " |      when counting the global number of degrees of freedom or in similar\n",
      " |      situations.\n",
      " |\n",
      " |  get_initial_charges(self)\n",
      " |      Get array of initial charges.\n",
      " |\n",
      " |  get_initial_magnetic_moments(self)\n",
      " |      Get array of initial magnetic moments.\n",
      " |\n",
      " |  get_kinetic_energy(self)\n",
      " |      Get the kinetic energy.\n",
      " |\n",
      " |  get_kinetic_stress(self, voigt=True)\n",
      " |      Calculate the kinetic part of the Virial stress tensor.\n",
      " |\n",
      " |  get_kinetic_stresses(self, voigt=True)\n",
      " |      Calculate the kinetic part of the Virial stress of all the atoms.\n",
      " |\n",
      " |  get_magnetic_moment(self)\n",
      " |      Get calculated total magnetic moment.\n",
      " |\n",
      " |  get_magnetic_moments(self)\n",
      " |      Get calculated local magnetic moments.\n",
      " |\n",
      " |  get_masses(self)\n",
      " |      Get array of masses in atomic mass units.\n",
      " |\n",
      " |  get_momenta(self)\n",
      " |      Get array of momenta.\n",
      " |\n",
      " |  get_moments_of_inertia(self, vectors=False)\n",
      " |      Get the moments of inertia along the principal axes.\n",
      " |\n",
      " |      The three principal moments of inertia are computed from the\n",
      " |      eigenvalues of the symmetric inertial tensor. Periodic boundary\n",
      " |      conditions are ignored. Units of the moments of inertia are\n",
      " |      amu*angstrom**2.\n",
      " |\n",
      " |  get_number_of_atoms(self)\n",
      " |      .. deprecated:: 3.18.1\n",
      " |          You probably want ``len(atoms)``.  Or if your atoms are distributed,\n",
      " |          use (and see) :func:`get_global_number_of_atoms()`.\n",
      " |\n",
      " |  get_number_of_degrees_of_freedom(self)\n",
      " |      Calculate the number of degrees of freedom in the system.\n",
      " |\n",
      " |  get_pbc(self)\n",
      " |      Get periodic boundary condition flags.\n",
      " |\n",
      " |  get_positions(self, wrap=False, **wrap_kw)\n",
      " |      Get array of positions.\n",
      " |\n",
      " |      Parameters:\n",
      " |\n",
      " |      wrap: bool\n",
      " |          wrap atoms back to the cell before returning positions\n",
      " |      wrap_kw: (keyword=value) pairs\n",
      " |          optional keywords `pbc`, `center`, `pretty_translation`, `eps`,\n",
      " |          see :func:`ase.geometry.wrap_positions`\n",
      " |\n",
      " |  get_potential_energies(self)\n",
      " |      Calculate the potential energies of all the atoms.\n",
      " |\n",
      " |      Only available with calculators supporting per-atom energies\n",
      " |      (e.g. classical potentials).\n",
      " |\n",
      " |  get_potential_energy(self, force_consistent=False, apply_constraint=True)\n",
      " |      Calculate potential energy.\n",
      " |\n",
      " |      Ask the attached calculator to calculate the potential energy and\n",
      " |      apply constraints.  Use *apply_constraint=False* to get the raw\n",
      " |      forces.\n",
      " |\n",
      " |      When supported by the calculator, either the energy extrapolated\n",
      " |      to zero Kelvin or the energy consistent with the forces (the free\n",
      " |      energy) can be returned.\n",
      " |\n",
      " |  get_properties(self, properties)\n",
      " |      This method is experimental; currently for internal use.\n",
      " |\n",
      " |  get_reciprocal_cell(self)\n",
      " |      Get the three reciprocal lattice vectors as a 3x3 ndarray.\n",
      " |\n",
      " |      Note that the commonly used factor of 2 pi for Fourier\n",
      " |      transforms is not included here.\n",
      " |\n",
      " |      .. deprecated:: 3.21.0\n",
      " |          Please use ``atoms.cell.reciprocal()``\n",
      " |\n",
      " |  get_scaled_positions(self, wrap=True)\n",
      " |      Get positions relative to unit cell.\n",
      " |\n",
      " |      If wrap is True, atoms outside the unit cell will be wrapped into\n",
      " |      the cell in those directions with periodic boundary conditions\n",
      " |      so that the scaled coordinates are between zero and one.\n",
      " |\n",
      " |      If any cell vectors are zero, the corresponding coordinates\n",
      " |      are evaluated as if the cell were completed using\n",
      " |      ``cell.complete()``.  This means coordinates will be Cartesian\n",
      " |      as long as the non-zero cell vectors span a Cartesian axis or\n",
      " |      plane.\n",
      " |\n",
      " |  get_stress(self, voigt=True, apply_constraint=True, include_ideal_gas=False)\n",
      " |      Calculate stress tensor.\n",
      " |\n",
      " |      Returns an array of the six independent components of the\n",
      " |      symmetric stress tensor, in the traditional Voigt order\n",
      " |      (xx, yy, zz, yz, xz, xy) or as a 3x3 matrix.  Default is Voigt\n",
      " |      order.\n",
      " |\n",
      " |      The ideal gas contribution to the stresses is added if the\n",
      " |      atoms have momenta and ``include_ideal_gas`` is set to True.\n",
      " |\n",
      " |  get_stresses(self, include_ideal_gas=False, voigt=True)\n",
      " |      Calculate the stress-tensor of all the atoms.\n",
      " |\n",
      " |      Only available with calculators supporting per-atom energies and\n",
      " |      stresses (e.g. classical potentials).  Even for such calculators\n",
      " |      there is a certain arbitrariness in defining per-atom stresses.\n",
      " |\n",
      " |      The ideal gas contribution to the stresses is added if the\n",
      " |      atoms have momenta and ``include_ideal_gas`` is set to True.\n",
      " |\n",
      " |  get_tags(self)\n",
      " |      Get integer array of tags.\n",
      " |\n",
      " |  get_temperature(self)\n",
      " |      Get the temperature in Kelvin.\n",
      " |\n",
      " |  get_total_energy(self)\n",
      " |      Get the total energy - potential plus kinetic energy.\n",
      " |\n",
      " |  get_velocities(self)\n",
      " |      Get array of velocities.\n",
      " |\n",
      " |  get_volume(self)\n",
      " |      Get volume of unit cell.\n",
      " |\n",
      " |  has(self, name)\n",
      " |      Check for existence of array.\n",
      " |\n",
      " |      name must be one of: 'tags', 'momenta', 'masses', 'initial_magmoms',\n",
      " |      'initial_charges'.\n",
      " |\n",
      " |  iterimages(self)\n",
      " |\n",
      " |  new_array(self, name, a, dtype=None, shape=None)\n",
      " |      Add new array.\n",
      " |\n",
      " |      If *shape* is not *None*, the shape of *a* will be checked.\n",
      " |\n",
      " |  pop(self, i=-1)\n",
      " |      Remove and return atom at index *i* (default last).\n",
      " |\n",
      " |  rattle(self, stdev=0.001, seed=None, rng=None)\n",
      " |      Randomly displace atoms.\n",
      " |\n",
      " |      This method adds random displacements to the atomic positions,\n",
      " |      taking a possible constraint into account. The random numbers are\n",
      " |      drawn from a normal distribution of standard deviation stdev.\n",
      " |\n",
      " |      By default, the random number generator always uses the same seed (42)\n",
      " |      for repeatability. You can provide your own seed (an integer), or if you\n",
      " |      want the randomness to be different each time you run a script, then\n",
      " |      provide `rng=numpy.random`. For a parallel calculation, it is important\n",
      " |      to use the same seed on all processors!\n",
      " |\n",
      " |  repeat(self, rep)\n",
      " |      Create new repeated atoms object.\n",
      " |\n",
      " |      The *rep* argument should be a sequence of three positive\n",
      " |      integers like *(2,3,1)* or a single integer (*r*) equivalent\n",
      " |      to *(r,r,r)*.\n",
      " |\n",
      " |  rotate(self, a, v, center=(0, 0, 0), rotate_cell=False)\n",
      " |      Rotate atoms based on a vector and an angle, or two vectors.\n",
      " |\n",
      " |      Parameters:\n",
      " |\n",
      " |      a = None:\n",
      " |          Angle that the atoms is rotated around the vector 'v'. 'a'\n",
      " |          can also be a vector and then 'a' is rotated\n",
      " |          into 'v'.\n",
      " |\n",
      " |      v:\n",
      " |          Vector to rotate the atoms around. Vectors can be given as\n",
      " |          strings: 'x', '-x', 'y', ... .\n",
      " |\n",
      " |      center = (0, 0, 0):\n",
      " |          The center is kept fixed under the rotation. Use 'COM' to fix\n",
      " |          the center of mass, 'COP' to fix the center of positions or\n",
      " |          'COU' to fix the center of cell.\n",
      " |\n",
      " |      rotate_cell = False:\n",
      " |          If true the cell is also rotated.\n",
      " |\n",
      " |      Examples:\n",
      " |\n",
      " |      Rotate 90 degrees around the z-axis, so that the x-axis is\n",
      " |      rotated into the y-axis:\n",
      " |\n",
      " |      >>> atoms = Atoms()\n",
      " |      >>> atoms.rotate(90, 'z')\n",
      " |      >>> atoms.rotate(90, (0, 0, 1))\n",
      " |      >>> atoms.rotate(-90, '-z')\n",
      " |      >>> atoms.rotate('x', 'y')\n",
      " |      >>> atoms.rotate((1, 0, 0), (0, 1, 0))\n",
      " |\n",
      " |  rotate_dihedral(self, a1, a2, a3, a4, angle, mask=None, indices=None)\n",
      " |      Rotate dihedral angle.\n",
      " |\n",
      " |      Same usage as in :meth:`ase.Atoms.set_dihedral`: Rotate a group by a\n",
      " |      predefined dihedral angle, starting from its current configuration.\n",
      " |\n",
      " |  set_angle(\n",
      " |      self,\n",
      " |      a1,\n",
      " |      a2=None,\n",
      " |      a3=None,\n",
      " |      angle=None,\n",
      " |      mask=None,\n",
      " |      indices=None,\n",
      " |      add=False\n",
      " |  )\n",
      " |      Set angle (in degrees) formed by three atoms.\n",
      " |\n",
      " |      Sets the angle between vectors *a2*->*a1* and *a2*->*a3*.\n",
      " |\n",
      " |      If *add* is `True`, the angle will be changed by the value given.\n",
      " |\n",
      " |      Same usage as in :meth:`ase.Atoms.set_dihedral`.\n",
      " |      If *mask* and *indices*\n",
      " |      are given, *indices* overwrites *mask*. If *mask* and *indices*\n",
      " |      are not set, only *a3* is moved.\n",
      " |\n",
      " |  set_array(self, name, a, dtype=None, shape=None)\n",
      " |      Update array.\n",
      " |\n",
      " |      If *shape* is not *None*, the shape of *a* will be checked.\n",
      " |      If *a* is *None*, then the array is deleted.\n",
      " |\n",
      " |  set_atomic_numbers(self, numbers)\n",
      " |      Set atomic numbers.\n",
      " |\n",
      " |  set_calculator(self, calc=None)\n",
      " |      Attach calculator object.\n",
      " |\n",
      " |      .. deprecated:: 3.20.0\n",
      " |          Please use the equivalent ``atoms.calc = calc`` instead of this\n",
      " |          method.\n",
      " |\n",
      " |  set_cell(self, cell, strain_atoms=False, apply_constraint=True)\n",
      " |      Set unit cell vectors.\n",
      " |\n",
      " |      Parameters:\n",
      " |\n",
      " |      cell: 3x3 matrix or length 3 or 6 vector\n",
      " |          Unit cell.  A 3x3 matrix (the three unit cell vectors) or\n",
      " |          just three numbers for an orthorhombic cell. Another option is\n",
      " |          6 numbers, which describes unit cell with lengths of unit cell\n",
      " |          vectors and with angles between them (in degrees), in following\n",
      " |          order: [len(a), len(b), len(c), angle(b,c), angle(a,c),\n",
      " |          angle(a,b)].  First vector will lie in x-direction, second in\n",
      " |          xy-plane, and the third one in z-positive subspace.\n",
      " |      strain_atoms: bool\n",
      " |          Fix atomic positions or move atoms with the unit cell?\n",
      " |          Default behavior is to *not* move the atoms (strain_atoms=False).\n",
      " |      apply_constraint: bool\n",
      " |          Whether to apply constraints to the given cell.\n",
      " |\n",
      " |      Examples:\n",
      " |\n",
      " |      Two equivalent ways to define an orthorhombic cell:\n",
      " |\n",
      " |      >>> atoms = Atoms('He')\n",
      " |      >>> a, b, c = 7, 7.5, 8\n",
      " |      >>> atoms.set_cell([a, b, c])\n",
      " |      >>> atoms.set_cell([(a, 0, 0), (0, b, 0), (0, 0, c)])\n",
      " |\n",
      " |      FCC unit cell:\n",
      " |\n",
      " |      >>> atoms.set_cell([(0, b, b), (b, 0, b), (b, b, 0)])\n",
      " |\n",
      " |      Hexagonal unit cell:\n",
      " |\n",
      " |      >>> atoms.set_cell([a, a, c, 90, 90, 120])\n",
      " |\n",
      " |      Rhombohedral unit cell:\n",
      " |\n",
      " |      >>> alpha = 77\n",
      " |      >>> atoms.set_cell([a, a, a, alpha, alpha, alpha])\n",
      " |\n",
      " |  set_celldisp(self, celldisp)\n",
      " |      Set the unit cell displacement vectors.\n",
      " |\n",
      " |  set_center_of_mass(self, com, scaled=False)\n",
      " |      Set the center of mass.\n",
      " |\n",
      " |      If scaled=True the center of mass is expected in scaled coordinates.\n",
      " |      Constraints are considered for scaled=False.\n",
      " |\n",
      " |  set_chemical_symbols(self, symbols)\n",
      " |      Set chemical symbols.\n",
      " |\n",
      " |  set_constraint(self, constraint=None)\n",
      " |      Apply one or more constrains.\n",
      " |\n",
      " |      The *constraint* argument must be one constraint object or a\n",
      " |      list of constraint objects.\n",
      " |\n",
      " |  set_dihedral(self, a1, a2, a3, a4, angle, mask=None, indices=None)\n",
      " |      Set the dihedral angle (degrees) between vectors a1->a2 and\n",
      " |      a3->a4 by changing the atom indexed by a4.\n",
      " |\n",
      " |      If mask is not None, all the atoms described in mask\n",
      " |      (read: the entire subgroup) are moved. Alternatively to the mask,\n",
      " |      the indices of the atoms to be rotated can be supplied. If both\n",
      " |      *mask* and *indices* are given, *indices* overwrites *mask*.\n",
      " |\n",
      " |      **Important**: If *mask* or *indices* is given and does not contain\n",
      " |      *a4*, *a4* will NOT be moved. In most cases you therefore want\n",
      " |      to include *a4* in *mask*/*indices*.\n",
      " |\n",
      " |      Example: the following defines a very crude\n",
      " |      ethane-like molecule and twists one half of it by 30 degrees.\n",
      " |\n",
      " |      >>> atoms = Atoms('HHCCHH', [[-1, 1, 0], [-1, -1, 0], [0, 0, 0],\n",
      " |      ...                          [1, 0, 0], [2, 1, 0], [2, -1, 0]])\n",
      " |      >>> atoms.set_dihedral(1, 2, 3, 4, 210, mask=[0, 0, 0, 1, 1, 1])\n",
      " |\n",
      " |  set_distance(\n",
      " |      self,\n",
      " |      a0,\n",
      " |      a1,\n",
      " |      distance,\n",
      " |      fix=0.5,\n",
      " |      mic=False,\n",
      " |      mask=None,\n",
      " |      indices=None,\n",
      " |      add=False,\n",
      " |      factor=False\n",
      " |  )\n",
      " |      Set the distance between two atoms.\n",
      " |\n",
      " |      Set the distance between atoms *a0* and *a1* to *distance*.\n",
      " |      By default, the center of the two atoms will be fixed.  Use\n",
      " |      *fix=0* to fix the first atom, *fix=1* to fix the second\n",
      " |      atom and *fix=0.5* (default) to fix the center of the bond.\n",
      " |\n",
      " |      If *mask* or *indices* are set (*mask* overwrites *indices*),\n",
      " |      only the atoms defined there are moved\n",
      " |      (see :meth:`ase.Atoms.set_dihedral`).\n",
      " |\n",
      " |      When *add* is true, the distance is changed by the value given.\n",
      " |      In combination\n",
      " |      with *factor* True, the value given is a factor scaling the distance.\n",
      " |\n",
      " |      It is assumed that the atoms in *mask*/*indices* move together\n",
      " |      with *a1*. If *fix=1*, only *a0* will therefore be moved.\n",
      " |\n",
      " |  set_initial_charges(self, charges=None)\n",
      " |      Set the initial charges.\n",
      " |\n",
      " |  set_initial_magnetic_moments(self, magmoms=None)\n",
      " |      Set the initial magnetic moments.\n",
      " |\n",
      " |      Use either one or three numbers for every atom (collinear\n",
      " |      or non-collinear spins).\n",
      " |\n",
      " |  set_masses(self, masses='defaults')\n",
      " |      Set atomic masses in atomic mass units.\n",
      " |\n",
      " |      The array masses should contain a list of masses.  In case\n",
      " |      the masses argument is not given or for those elements of the\n",
      " |      masses list that are None, standard values are set.\n",
      " |\n",
      " |  set_momenta(self, momenta, apply_constraint=True)\n",
      " |      Set momenta.\n",
      " |\n",
      " |  set_pbc(self, pbc)\n",
      " |      Set periodic boundary condition flags.\n",
      " |\n",
      " |  set_positions(self, newpositions, apply_constraint=True)\n",
      " |      Set positions, honoring any constraints. To ignore constraints,\n",
      " |      use *apply_constraint=False*.\n",
      " |\n",
      " |  set_scaled_positions(self, scaled)\n",
      " |      Set positions relative to unit cell.\n",
      " |\n",
      " |  set_tags(self, tags)\n",
      " |      Set tags for all atoms. If only one tag is supplied, it is\n",
      " |      applied to all atoms.\n",
      " |\n",
      " |  set_velocities(self, velocities)\n",
      " |      Set the momenta by specifying the velocities.\n",
      " |\n",
      " |  todict(self)\n",
      " |      For basic JSON (non-database) support.\n",
      " |\n",
      " |  translate(self, displacement)\n",
      " |      Translate atomic positions.\n",
      " |\n",
      " |      The displacement argument can be a float an xyz vector or an\n",
      " |      nx3 array (where n is the number of atoms).\n",
      " |\n",
      " |  wrap(self, **wrap_kw)\n",
      " |      Wrap positions to unit cell.\n",
      " |\n",
      " |      Parameters:\n",
      " |\n",
      " |      wrap_kw: (keyword=value) pairs\n",
      " |          optional keywords `pbc`, `center`, `pretty_translation`, `eps`,\n",
      " |          see :func:`ase.geometry.wrap_positions`\n",
      " |\n",
      " |  write(self, filename, format=None, **kwargs)\n",
      " |      Write atoms object to a file.\n",
      " |\n",
      " |      see ase.io.write for formats.\n",
      " |      kwargs are passed to ase.io.write.\n",
      " |\n",
      " |  ----------------------------------------------------------------------\n",
      " |  Class methods defined here:\n",
      " |\n",
      " |  fromdict(dct)\n",
      " |      Rebuild atoms object from dictionary representation (todict).\n",
      " |\n",
      " |  ----------------------------------------------------------------------\n",
      " |  Readonly properties defined here:\n",
      " |\n",
      " |  number_of_lattice_vectors\n",
      " |      Number of (non-zero) lattice vectors.\n",
      " |\n",
      " |      .. deprecated:: 3.21.0\n",
      " |          Please use ``atoms.cell.rank`` instead\n",
      " |\n",
      " |  ----------------------------------------------------------------------\n",
      " |  Data descriptors defined here:\n",
      " |\n",
      " |  __dict__\n",
      " |      dictionary for instance variables\n",
      " |\n",
      " |  __weakref__\n",
      " |      list of weak references to the object\n",
      " |\n",
      " |  calc\n",
      " |      Calculator object.\n",
      " |\n",
      " |  cell\n",
      " |      The :class:`ase.cell.Cell` for direct manipulation.\n",
      " |\n",
      " |  constraints\n",
      " |      Constraints of the atoms.\n",
      " |\n",
      " |  numbers\n",
      " |      Attribute for direct manipulation of the atomic numbers.\n",
      " |\n",
      " |  pbc\n",
      " |      Reference to pbc-flags for in-place manipulations.\n",
      " |\n",
      " |  positions\n",
      " |      Attribute for direct manipulation of the positions.\n",
      " |\n",
      " |  symbols\n",
      " |      Get chemical symbols as a :class:`ase.symbols.Symbols` object.\n",
      " |\n",
      " |      The object works like ``atoms.numbers`` except its values\n",
      " |      are strings.  It supports in-place editing.\n",
      " |\n",
      " |  ----------------------------------------------------------------------\n",
      " |  Data and other attributes defined here:\n",
      " |\n",
      " |  __hash__ = None\n",
      " |\n",
      " |  ase_objtype = 'atoms'\n",
      "\n"
     ]
    }
   ],
   "source": [
    "# help(struct.symbols.formula)\n",
    "help(struct)"
   ]
  },
  {
   "cell_type": "markdown",
   "metadata": {},
   "source": [
    "## Select atoms"
   ]
  },
  {
   "cell_type": "code",
   "execution_count": null,
   "metadata": {},
   "outputs": [
    {
     "data": {
      "text/plain": [
       "[0, 3, 6, 9, 12, 15, 18, 21, 24]"
      ]
     },
     "execution_count": 7,
     "metadata": {},
     "output_type": "execute_result"
    }
   ],
   "source": [
    "### filter atoms by symbol\n",
    "elements = struct.get_chemical_symbols()\n",
    "# elements\n",
    "tmp_idxs = [i for i, e in enumerate(elements) if e == \"Mo\"]\n",
    "tmp_idxs"
   ]
  },
  {
   "cell_type": "code",
   "execution_count": 18,
   "metadata": {},
   "outputs": [
    {
     "data": {
      "text/plain": [
       "array([[ 0.        ,  0.        ,  0.        ],\n",
       "       [ 1.59      ,  0.91798693,  1.595     ],\n",
       "       [ 1.59      ,  0.91798693, -1.595     ],\n",
       "       [-1.59      ,  2.75396078,  0.        ],\n",
       "       [ 0.        ,  3.67194771,  1.595     ],\n",
       "       [ 0.        ,  3.67194771, -1.595     ],\n",
       "       [-3.18      ,  5.50792157,  0.        ],\n",
       "       [-1.59      ,  6.4259085 ,  1.595     ],\n",
       "       [-1.59      ,  6.4259085 , -1.595     ],\n",
       "       [ 3.18      ,  0.        ,  0.        ],\n",
       "       [ 4.77      ,  0.91798693,  1.595     ],\n",
       "       [ 4.77      ,  0.91798693, -1.595     ],\n",
       "       [ 1.59      ,  2.75396078,  0.        ],\n",
       "       [ 3.18      ,  3.67194771,  1.595     ],\n",
       "       [ 3.18      ,  3.67194771, -1.595     ],\n",
       "       [ 0.        ,  5.50792157,  0.        ],\n",
       "       [ 1.59      ,  6.4259085 ,  1.595     ],\n",
       "       [ 1.59      ,  6.4259085 , -1.595     ],\n",
       "       [ 6.36      ,  0.        ,  0.        ],\n",
       "       [ 7.95      ,  0.91798693,  1.595     ],\n",
       "       [ 7.95      ,  0.91798693, -1.595     ],\n",
       "       [ 4.77      ,  2.75396078,  0.        ],\n",
       "       [ 6.36      ,  3.67194771,  1.595     ],\n",
       "       [ 6.36      ,  3.67194771, -1.595     ],\n",
       "       [ 3.18      ,  5.50792157,  0.        ],\n",
       "       [ 4.77      ,  6.4259085 ,  1.595     ],\n",
       "       [ 4.77      ,  6.4259085 , -1.595     ]])"
      ]
     },
     "execution_count": 18,
     "metadata": {},
     "output_type": "execute_result"
    }
   ],
   "source": [
    "struct.positions"
   ]
  },
  {
   "cell_type": "code",
   "execution_count": 17,
   "metadata": {},
   "outputs": [
    {
     "ename": "TypeError",
     "evalue": "Sequence.count() missing 1 required positional argument: 'value'",
     "output_type": "error",
     "traceback": [
      "\u001b[31m---------------------------------------------------------------------------\u001b[39m",
      "\u001b[31mTypeError\u001b[39m                                 Traceback (most recent call last)",
      "\u001b[36mCell\u001b[39m\u001b[36m \u001b[39m\u001b[32mIn[17]\u001b[39m\u001b[32m, line 1\u001b[39m\n\u001b[32m----> \u001b[39m\u001b[32m1\u001b[39m \u001b[43mstruct\u001b[49m\u001b[43m.\u001b[49m\u001b[43msymbols\u001b[49m\u001b[43m.\u001b[49m\u001b[43mcount\u001b[49m\u001b[43m(\u001b[49m\u001b[43m)\u001b[49m\n",
      "\u001b[31mTypeError\u001b[39m: Sequence.count() missing 1 required positional argument: 'value'"
     ]
    }
   ],
   "source": [
    "struct.symbols.count()"
   ]
  },
  {
   "cell_type": "markdown",
   "metadata": {},
   "source": [
    "# Compute properties\n",
    "Note that, \n",
    "- no GPAW for Windows -> use WSL\n",
    "- `stress` only available when using mode = `PW`\n",
    "- `atoms.get_potential_energies()`: compute per-atom energies, Only available with calculators supporting per-atom energies (e.g. classical potentials)."
   ]
  },
  {
   "cell_type": "markdown",
   "metadata": {},
   "source": [
    "## Write properties to traj"
   ]
  },
  {
   "cell_type": "code",
   "execution_count": 1,
   "metadata": {},
   "outputs": [],
   "source": [
    "from ase import Atoms\n",
    "\n",
    "d = 2.9\n",
    "L = 10.0\n",
    "atoms = Atoms('Au',\n",
    "              positions=[[0, L / 2, L / 2]],\n",
    "              cell=[d, L, L],\n",
    "              pbc=[1, 1, 1])"
   ]
  },
  {
   "cell_type": "code",
   "execution_count": 2,
   "metadata": {},
   "outputs": [
    {
     "ename": "RuntimeError",
     "evalue": "Atoms object has no calculator.",
     "output_type": "error",
     "traceback": [
      "\u001b[0;31m---------------------------------------------------------------------------\u001b[0m",
      "\u001b[0;31mRuntimeError\u001b[0m                              Traceback (most recent call last)",
      "Cell \u001b[0;32mIn[2], line 1\u001b[0m\n\u001b[0;32m----> 1\u001b[0m \u001b[43matoms\u001b[49m\u001b[38;5;241;43m.\u001b[39;49m\u001b[43mget_forces\u001b[49m\u001b[43m(\u001b[49m\u001b[43m)\u001b[49m\n",
      "File \u001b[0;32m~/miniconda3/envs/py11deepmd/lib/python3.11/site-packages/ase/atoms.py:811\u001b[0m, in \u001b[0;36mAtoms.get_forces\u001b[0;34m(self, apply_constraint, md)\u001b[0m\n\u001b[1;32m    797\u001b[0m \u001b[38;5;250m\u001b[39m\u001b[38;5;124;03m\"\"\"Calculate atomic forces.\u001b[39;00m\n\u001b[1;32m    798\u001b[0m \n\u001b[1;32m    799\u001b[0m \u001b[38;5;124;03mAsk the attached calculator to calculate the forces and apply\u001b[39;00m\n\u001b[0;32m   (...)\u001b[0m\n\u001b[1;32m    807\u001b[0m \u001b[38;5;124;03mconstraints (required for molecular dynamics with this type of\u001b[39;00m\n\u001b[1;32m    808\u001b[0m \u001b[38;5;124;03mconstraints).\"\"\"\u001b[39;00m\n\u001b[1;32m    810\u001b[0m \u001b[38;5;28;01mif\u001b[39;00m \u001b[38;5;28mself\u001b[39m\u001b[38;5;241m.\u001b[39m_calc \u001b[38;5;129;01mis\u001b[39;00m \u001b[38;5;28;01mNone\u001b[39;00m:\n\u001b[0;32m--> 811\u001b[0m     \u001b[38;5;28;01mraise\u001b[39;00m \u001b[38;5;167;01mRuntimeError\u001b[39;00m(\u001b[38;5;124m'\u001b[39m\u001b[38;5;124mAtoms object has no calculator.\u001b[39m\u001b[38;5;124m'\u001b[39m)\n\u001b[1;32m    812\u001b[0m forces \u001b[38;5;241m=\u001b[39m \u001b[38;5;28mself\u001b[39m\u001b[38;5;241m.\u001b[39m_calc\u001b[38;5;241m.\u001b[39mget_forces(\u001b[38;5;28mself\u001b[39m)\n\u001b[1;32m    814\u001b[0m \u001b[38;5;28;01mif\u001b[39;00m apply_constraint:\n\u001b[1;32m    815\u001b[0m     \u001b[38;5;66;03m# We need a special md flag here because for MD we want\u001b[39;00m\n\u001b[1;32m    816\u001b[0m     \u001b[38;5;66;03m# to skip real constraints but include special \"constraints\"\u001b[39;00m\n\u001b[1;32m    817\u001b[0m     \u001b[38;5;66;03m# Like Hookean.\u001b[39;00m\n",
      "\u001b[0;31mRuntimeError\u001b[0m: Atoms object has no calculator."
     ]
    }
   ],
   "source": [
    "atoms.get_forces()"
   ]
  },
  {
   "cell_type": "code",
   "execution_count": 27,
   "metadata": {},
   "outputs": [],
   "source": [
    "from ase.calculators.calculator import PropertyNotImplementedError\n",
    "from ase.io import Trajectory, write\n",
    "from gpaw import GPAW, PW\n",
    "\n",
    "calc = GPAW(mode=PW(300),\n",
    "            xc='PBE',\n",
    "            txt='calc.txt')\n",
    "\n",
    "##### attach calculator\n",
    "atoms.calc = calc\n",
    "\n",
    "##### compute properties\n",
    "atoms.get_potential_energy()\n",
    "atoms.get_forces()\n",
    "\n",
    "### compute stress only if the calculator supports it\n",
    "try:\n",
    "    atoms.get_stress(voigt=False)  # not use voigt notation -> return 3x3 matrix\n",
    "except PropertyNotImplementedError:\n",
    "    pass"
   ]
  },
  {
   "cell_type": "code",
   "execution_count": 29,
   "metadata": {},
   "outputs": [],
   "source": [
    "##### write trajectory\n",
    "Trajectory('conf_ase.traj', 'w').write(atoms)"
   ]
  },
  {
   "cell_type": "code",
   "execution_count": null,
   "metadata": {},
   "outputs": [
    {
     "ename": "KeyError",
     "evalue": "'key from calculator already exists in atoms.info'",
     "output_type": "error",
     "traceback": [
      "\u001b[0;31m---------------------------------------------------------------------------\u001b[0m",
      "\u001b[0;31mKeyError\u001b[0m                                  Traceback (most recent call last)",
      "Cell \u001b[0;32mIn[39], line 10\u001b[0m\n\u001b[1;32m      8\u001b[0m cols \u001b[38;5;241m=\u001b[39m [\u001b[38;5;124m\"\u001b[39m\u001b[38;5;124msymbols\u001b[39m\u001b[38;5;124m\"\u001b[39m, \u001b[38;5;124m\"\u001b[39m\u001b[38;5;124mpositions\u001b[39m\u001b[38;5;124m\"\u001b[39m, \u001b[38;5;124m\"\u001b[39m\u001b[38;5;124mforces\u001b[39m\u001b[38;5;124m\"\u001b[39m]\n\u001b[1;32m      9\u001b[0m atoms\u001b[38;5;241m.\u001b[39minfo \u001b[38;5;241m=\u001b[39m atoms\u001b[38;5;241m.\u001b[39mcalc\u001b[38;5;241m.\u001b[39mresults\n\u001b[0;32m---> 10\u001b[0m \u001b[43mwrite\u001b[49m\u001b[43m(\u001b[49m\u001b[38;5;124;43m\"\u001b[39;49m\u001b[38;5;124;43mfile_col.extXYZ\u001b[39;49m\u001b[38;5;124;43m\"\u001b[39;49m\u001b[43m,\u001b[49m\u001b[43m \u001b[49m\u001b[43matoms\u001b[49m\u001b[43m,\u001b[49m\u001b[43m \u001b[49m\u001b[38;5;28;43mformat\u001b[39;49m\u001b[38;5;241;43m=\u001b[39;49m\u001b[38;5;124;43m\"\u001b[39;49m\u001b[38;5;124;43mextxyz\u001b[39;49m\u001b[38;5;124;43m\"\u001b[39;49m\u001b[43m,\u001b[49m\u001b[43m \u001b[49m\u001b[43mcolumns\u001b[49m\u001b[38;5;241;43m=\u001b[39;49m\u001b[43mcols\u001b[49m\u001b[43m)\u001b[49m\n",
      "File \u001b[0;32m~/miniconda3/envs/py11deepmd/lib/python3.11/site-packages/ase/io/formats.py:692\u001b[0m, in \u001b[0;36mwrite\u001b[0;34m(filename, images, format, parallel, append, **kwargs)\u001b[0m\n\u001b[1;32m    688\u001b[0m \u001b[38;5;28mformat\u001b[39m \u001b[38;5;241m=\u001b[39m \u001b[38;5;28mformat\u001b[39m \u001b[38;5;129;01mor\u001b[39;00m \u001b[38;5;124m'\u001b[39m\u001b[38;5;124mjson\u001b[39m\u001b[38;5;124m'\u001b[39m  \u001b[38;5;66;03m# default is json\u001b[39;00m\n\u001b[1;32m    690\u001b[0m io \u001b[38;5;241m=\u001b[39m get_ioformat(\u001b[38;5;28mformat\u001b[39m)\n\u001b[0;32m--> 692\u001b[0m \u001b[38;5;28;01mreturn\u001b[39;00m \u001b[43m_write\u001b[49m\u001b[43m(\u001b[49m\u001b[43mfilename\u001b[49m\u001b[43m,\u001b[49m\u001b[43m \u001b[49m\u001b[43mfd\u001b[49m\u001b[43m,\u001b[49m\u001b[43m \u001b[49m\u001b[38;5;28;43mformat\u001b[39;49m\u001b[43m,\u001b[49m\u001b[43m \u001b[49m\u001b[43mio\u001b[49m\u001b[43m,\u001b[49m\u001b[43m \u001b[49m\u001b[43mimages\u001b[49m\u001b[43m,\u001b[49m\n\u001b[1;32m    693\u001b[0m \u001b[43m              \u001b[49m\u001b[43mparallel\u001b[49m\u001b[38;5;241;43m=\u001b[39;49m\u001b[43mparallel\u001b[49m\u001b[43m,\u001b[49m\u001b[43m \u001b[49m\u001b[43mappend\u001b[49m\u001b[38;5;241;43m=\u001b[39;49m\u001b[43mappend\u001b[49m\u001b[43m,\u001b[49m\u001b[43m \u001b[49m\u001b[38;5;241;43m*\u001b[39;49m\u001b[38;5;241;43m*\u001b[39;49m\u001b[43mkwargs\u001b[49m\u001b[43m)\u001b[49m\n",
      "File \u001b[0;32m~/miniconda3/envs/py11deepmd/lib/python3.11/site-packages/ase/parallel.py:271\u001b[0m, in \u001b[0;36mparallel_function.<locals>.new_func\u001b[0;34m(*args, **kwargs)\u001b[0m\n\u001b[1;32m    265\u001b[0m \u001b[38;5;129m@functools\u001b[39m\u001b[38;5;241m.\u001b[39mwraps(func)\n\u001b[1;32m    266\u001b[0m \u001b[38;5;28;01mdef\u001b[39;00m \u001b[38;5;21mnew_func\u001b[39m(\u001b[38;5;241m*\u001b[39margs, \u001b[38;5;241m*\u001b[39m\u001b[38;5;241m*\u001b[39mkwargs):\n\u001b[1;32m    267\u001b[0m     \u001b[38;5;28;01mif\u001b[39;00m (world\u001b[38;5;241m.\u001b[39msize \u001b[38;5;241m==\u001b[39m \u001b[38;5;241m1\u001b[39m \u001b[38;5;129;01mor\u001b[39;00m\n\u001b[1;32m    268\u001b[0m         args \u001b[38;5;129;01mand\u001b[39;00m \u001b[38;5;28mgetattr\u001b[39m(args[\u001b[38;5;241m0\u001b[39m], \u001b[38;5;124m'\u001b[39m\u001b[38;5;124mserial\u001b[39m\u001b[38;5;124m'\u001b[39m, \u001b[38;5;28;01mFalse\u001b[39;00m) \u001b[38;5;129;01mor\u001b[39;00m\n\u001b[1;32m    269\u001b[0m             \u001b[38;5;129;01mnot\u001b[39;00m kwargs\u001b[38;5;241m.\u001b[39mpop(\u001b[38;5;124m'\u001b[39m\u001b[38;5;124mparallel\u001b[39m\u001b[38;5;124m'\u001b[39m, \u001b[38;5;28;01mTrue\u001b[39;00m)):\n\u001b[1;32m    270\u001b[0m         \u001b[38;5;66;03m# Disable:\u001b[39;00m\n\u001b[0;32m--> 271\u001b[0m         \u001b[38;5;28;01mreturn\u001b[39;00m \u001b[43mfunc\u001b[49m\u001b[43m(\u001b[49m\u001b[38;5;241;43m*\u001b[39;49m\u001b[43margs\u001b[49m\u001b[43m,\u001b[49m\u001b[43m \u001b[49m\u001b[38;5;241;43m*\u001b[39;49m\u001b[38;5;241;43m*\u001b[39;49m\u001b[43mkwargs\u001b[49m\u001b[43m)\u001b[49m\n\u001b[1;32m    273\u001b[0m     ex \u001b[38;5;241m=\u001b[39m \u001b[38;5;28;01mNone\u001b[39;00m\n\u001b[1;32m    274\u001b[0m     result \u001b[38;5;241m=\u001b[39m \u001b[38;5;28;01mNone\u001b[39;00m\n",
      "File \u001b[0;32m~/miniconda3/envs/py11deepmd/lib/python3.11/site-packages/ase/io/formats.py:728\u001b[0m, in \u001b[0;36m_write\u001b[0;34m(filename, fd, format, io, images, parallel, append, **kwargs)\u001b[0m\n\u001b[1;32m    725\u001b[0m         fd \u001b[38;5;241m=\u001b[39m open_with_compression(filename, mode)\n\u001b[1;32m    726\u001b[0m         \u001b[38;5;66;03m# XXX remember to re-enable compressed open\u001b[39;00m\n\u001b[1;32m    727\u001b[0m         \u001b[38;5;66;03m# fd = io.open(filename, mode)\u001b[39;00m\n\u001b[0;32m--> 728\u001b[0m     \u001b[38;5;28;01mreturn\u001b[39;00m \u001b[43mio\u001b[49m\u001b[38;5;241;43m.\u001b[39;49m\u001b[43mwrite\u001b[49m\u001b[43m(\u001b[49m\u001b[43mfd\u001b[49m\u001b[43m,\u001b[49m\u001b[43m \u001b[49m\u001b[43mimages\u001b[49m\u001b[43m,\u001b[49m\u001b[43m \u001b[49m\u001b[38;5;241;43m*\u001b[39;49m\u001b[38;5;241;43m*\u001b[39;49m\u001b[43mkwargs\u001b[49m\u001b[43m)\u001b[49m\n\u001b[1;32m    729\u001b[0m \u001b[38;5;28;01mfinally\u001b[39;00m:\n\u001b[1;32m    730\u001b[0m     \u001b[38;5;28;01mif\u001b[39;00m open_new \u001b[38;5;129;01mand\u001b[39;00m fd \u001b[38;5;129;01mis\u001b[39;00m \u001b[38;5;129;01mnot\u001b[39;00m \u001b[38;5;28;01mNone\u001b[39;00m:\n",
      "File \u001b[0;32m~/miniconda3/envs/py11deepmd/lib/python3.11/site-packages/ase/io/formats.py:193\u001b[0m, in \u001b[0;36mIOFormat._write_wrapper\u001b[0;34m(self, *args, **kwargs)\u001b[0m\n\u001b[1;32m    191\u001b[0m \u001b[38;5;28;01mif\u001b[39;00m function \u001b[38;5;129;01mis\u001b[39;00m \u001b[38;5;28;01mNone\u001b[39;00m:\n\u001b[1;32m    192\u001b[0m     \u001b[38;5;28;01mraise\u001b[39;00m \u001b[38;5;167;01mValueError\u001b[39;00m(\u001b[38;5;124mf\u001b[39m\u001b[38;5;124m'\u001b[39m\u001b[38;5;124mCannot write to \u001b[39m\u001b[38;5;132;01m{\u001b[39;00m\u001b[38;5;28mself\u001b[39m\u001b[38;5;241m.\u001b[39mname\u001b[38;5;132;01m}\u001b[39;00m\u001b[38;5;124m-format\u001b[39m\u001b[38;5;124m'\u001b[39m)\n\u001b[0;32m--> 193\u001b[0m \u001b[38;5;28;01mreturn\u001b[39;00m \u001b[43mfunction\u001b[49m\u001b[43m(\u001b[49m\u001b[38;5;241;43m*\u001b[39;49m\u001b[43margs\u001b[49m\u001b[43m,\u001b[49m\u001b[43m \u001b[49m\u001b[38;5;241;43m*\u001b[39;49m\u001b[38;5;241;43m*\u001b[39;49m\u001b[43mkwargs\u001b[49m\u001b[43m)\u001b[49m\n",
      "File \u001b[0;32m~/miniconda3/envs/py11deepmd/lib/python3.11/site-packages/ase/utils/__init__.py:577\u001b[0m, in \u001b[0;36miofunction.__call__.<locals>.iofunc\u001b[0;34m(file, *args, **kwargs)\u001b[0m\n\u001b[1;32m    575\u001b[0m     \u001b[38;5;28;01melse\u001b[39;00m:\n\u001b[1;32m    576\u001b[0m         fd \u001b[38;5;241m=\u001b[39m file\n\u001b[0;32m--> 577\u001b[0m     obj \u001b[38;5;241m=\u001b[39m \u001b[43mfunc\u001b[49m\u001b[43m(\u001b[49m\u001b[43mfd\u001b[49m\u001b[43m,\u001b[49m\u001b[43m \u001b[49m\u001b[38;5;241;43m*\u001b[39;49m\u001b[43margs\u001b[49m\u001b[43m,\u001b[49m\u001b[43m \u001b[49m\u001b[38;5;241;43m*\u001b[39;49m\u001b[38;5;241;43m*\u001b[39;49m\u001b[43mkwargs\u001b[49m\u001b[43m)\u001b[49m\n\u001b[1;32m    578\u001b[0m     \u001b[38;5;28;01mreturn\u001b[39;00m obj\n\u001b[1;32m    579\u001b[0m \u001b[38;5;28;01mfinally\u001b[39;00m:\n",
      "File \u001b[0;32m~/miniconda3/envs/py11deepmd/lib/python3.11/site-packages/ase/io/extxyz.py:826\u001b[0m, in \u001b[0;36mwrite_xyz\u001b[0;34m(fileobj, images, comment, columns, write_info, write_results, plain, vec_cell)\u001b[0m\n\u001b[1;32m    823\u001b[0m calculator \u001b[38;5;241m=\u001b[39m atoms\u001b[38;5;241m.\u001b[39mcalc\n\u001b[1;32m    824\u001b[0m atoms \u001b[38;5;241m=\u001b[39m atoms\u001b[38;5;241m.\u001b[39mcopy()\n\u001b[0;32m--> 826\u001b[0m \u001b[43msave_calc_results\u001b[49m\u001b[43m(\u001b[49m\u001b[43matoms\u001b[49m\u001b[43m,\u001b[49m\u001b[43m \u001b[49m\u001b[43mcalculator\u001b[49m\u001b[43m,\u001b[49m\u001b[43m \u001b[49m\u001b[43mcalc_prefix\u001b[49m\u001b[38;5;241;43m=\u001b[39;49m\u001b[38;5;124;43m\"\u001b[39;49m\u001b[38;5;124;43m\"\u001b[39;49m\u001b[43m)\u001b[49m\n\u001b[1;32m    828\u001b[0m \u001b[38;5;28;01mif\u001b[39;00m atoms\u001b[38;5;241m.\u001b[39minfo\u001b[38;5;241m.\u001b[39mget(\u001b[38;5;124m'\u001b[39m\u001b[38;5;124mstress\u001b[39m\u001b[38;5;124m'\u001b[39m, np\u001b[38;5;241m.\u001b[39marray([]))\u001b[38;5;241m.\u001b[39mshape \u001b[38;5;241m==\u001b[39m (\u001b[38;5;241m6\u001b[39m,):\n\u001b[1;32m    829\u001b[0m     atoms\u001b[38;5;241m.\u001b[39minfo[\u001b[38;5;124m'\u001b[39m\u001b[38;5;124mstress\u001b[39m\u001b[38;5;124m'\u001b[39m] \u001b[38;5;241m=\u001b[39m \\\n\u001b[1;32m    830\u001b[0m         voigt_6_to_full_3x3_stress(atoms\u001b[38;5;241m.\u001b[39minfo[\u001b[38;5;124m'\u001b[39m\u001b[38;5;124mstress\u001b[39m\u001b[38;5;124m'\u001b[39m])\n",
      "File \u001b[0;32m~/miniconda3/envs/py11deepmd/lib/python3.11/site-packages/ase/io/extxyz.py:987\u001b[0m, in \u001b[0;36msave_calc_results\u001b[0;34m(atoms, calc, calc_prefix, remove_atoms_calc, force)\u001b[0m\n\u001b[1;32m    985\u001b[0m \u001b[38;5;28;01mif\u001b[39;00m \u001b[38;5;129;01mnot\u001b[39;00m force:\n\u001b[1;32m    986\u001b[0m     \u001b[38;5;28;01mif\u001b[39;00m \u001b[38;5;28many\u001b[39m(key \u001b[38;5;129;01min\u001b[39;00m atoms\u001b[38;5;241m.\u001b[39minfo \u001b[38;5;28;01mfor\u001b[39;00m key \u001b[38;5;129;01min\u001b[39;00m per_config_results):\n\u001b[0;32m--> 987\u001b[0m         \u001b[38;5;28;01mraise\u001b[39;00m \u001b[38;5;167;01mKeyError\u001b[39;00m(\u001b[38;5;124m\"\u001b[39m\u001b[38;5;124mkey from calculator already exists in atoms.info\u001b[39m\u001b[38;5;124m\"\u001b[39m)\n\u001b[1;32m    988\u001b[0m     \u001b[38;5;28;01mif\u001b[39;00m \u001b[38;5;28many\u001b[39m(key \u001b[38;5;129;01min\u001b[39;00m atoms\u001b[38;5;241m.\u001b[39marrays \u001b[38;5;28;01mfor\u001b[39;00m key \u001b[38;5;129;01min\u001b[39;00m per_atom_results):\n\u001b[1;32m    989\u001b[0m         \u001b[38;5;28;01mraise\u001b[39;00m \u001b[38;5;167;01mKeyError\u001b[39;00m(\u001b[38;5;124m\"\u001b[39m\u001b[38;5;124mkey from calculator already exists in atoms.arrays\u001b[39m\u001b[38;5;124m\"\u001b[39m)\n",
      "\u001b[0;31mKeyError\u001b[0m: 'key from calculator already exists in atoms.info'"
     ]
    }
   ],
   "source": [
    "\n",
    "##### write extxyz\n",
    "# if Path('file.extXYZ').is_file():\n",
    "#     os.remove('file.extXYZ')\n",
    "atoms.write('file_full.extXYZ', format='extxyz', append=True)\n",
    "\n",
    "cols = [\"symbols\", \"positions\", \"forces\"]\n",
    "write(\"file_col.extXYZ\", atoms, format=\"extxyz\", columns=cols)"
   ]
  },
  {
   "cell_type": "code",
   "execution_count": 28,
   "metadata": {},
   "outputs": [
    {
     "data": {
      "text/plain": [
       "{'numbers': array([79]), 'positions': array([[0., 5., 5.]])}"
      ]
     },
     "execution_count": 28,
     "metadata": {},
     "output_type": "execute_result"
    }
   ],
   "source": [
    "atoms.arrays"
   ]
  },
  {
   "cell_type": "code",
   "execution_count": 29,
   "metadata": {},
   "outputs": [
    {
     "data": {
      "text/plain": [
       "{}"
      ]
     },
     "execution_count": 29,
     "metadata": {},
     "output_type": "execute_result"
    }
   ],
   "source": [
    "atoms.info"
   ]
  },
  {
   "cell_type": "code",
   "execution_count": 38,
   "metadata": {},
   "outputs": [
    {
     "data": {
      "text/plain": [
       "{'parallel': {'kpt': None,\n",
       "  'domain': None,\n",
       "  'band': None,\n",
       "  'order': 'kdb',\n",
       "  'stridebands': False,\n",
       "  'augment_grids': False,\n",
       "  'sl_auto': False,\n",
       "  'sl_default': None,\n",
       "  'sl_diagonalize': None,\n",
       "  'sl_inverse_cholesky': None,\n",
       "  'sl_lcao': None,\n",
       "  'sl_lrtddft': None,\n",
       "  'use_elpa': False,\n",
       "  'elpasolver': '2stage',\n",
       "  'buffer_size': None},\n",
       " 'timer': <ase.utils.timing.Timer at 0x7f655e28fc40>,\n",
       " 'scf': <gpaw.scf.SCFLoop at 0x7f655e0bc460>,\n",
       " 'wfs': <gpaw.wavefunctions.pw.PWWaveFunctions at 0x7f655e01bdc0>,\n",
       " 'density': <gpaw.wavefunctions.pw.ReciprocalSpaceDensity at 0x7f655e0102b0>,\n",
       " 'hamiltonian': <gpaw.wavefunctions.pw.ReciprocalSpaceHamiltonian at 0x7f655e0103d0>,\n",
       " 'spos_ac': array([[0. , 0.5, 0.5]]),\n",
       " 'observers': [],\n",
       " 'initialized': True,\n",
       " 'world': <MPI at 0x7f658a780150>,\n",
       " 'log': <gpaw.io.logger.GPAWLogger at 0x7f655e28fbb0>,\n",
       " 'reader': None,\n",
       " 'atoms': Atoms(symbols='Au', pbc=True, cell=[2.9, 10.0, 10.0]),\n",
       " 'results': {'energy': -2.2428277968240597,\n",
       "  'free_energy': -2.377965829612936,\n",
       "  'dipole': array([-2.26252895e-15, -2.15253955e-15, -1.09907133e-15]),\n",
       "  'magmom': 0.0,\n",
       "  'magmoms': array([0.]),\n",
       "  'forces': array([[1.26765182e-30, 0.00000000e+00, 0.00000000e+00]]),\n",
       "  'stress': array([0.02020461, 0.00110767, 0.00110767, 0.        , 0.        ,\n",
       "         0.        ])},\n",
       " 'parameters': {'mode': <gpaw.wavefunctions.pw.PW at 0x7f655e14e6a0>,\n",
       "  'xc': 'PBE',\n",
       "  'occupations': None,\n",
       "  'poissonsolver': None,\n",
       "  'h': None,\n",
       "  'gpts': None,\n",
       "  'kpts': [(0.0, 0.0, 0.0)],\n",
       "  'nbands': None,\n",
       "  'charge': 0,\n",
       "  'setups': {},\n",
       "  'basis': {},\n",
       "  'spinpol': None,\n",
       "  'filter': None,\n",
       "  'mixer': None,\n",
       "  'eigensolver': None,\n",
       "  'background_charge': None,\n",
       "  'experimental': {'reuse_wfs_method': 'paw',\n",
       "   'niter_fixdensity': 0,\n",
       "   'magmoms': None,\n",
       "   'soc': None,\n",
       "   'kpt_refine': None},\n",
       "  'external': None,\n",
       "  'random': False,\n",
       "  'hund': False,\n",
       "  'maxiter': 333,\n",
       "  'idiotproof': True,\n",
       "  'symmetry': {'point_group': True,\n",
       "   'time_reversal': True,\n",
       "   'symmorphic': True,\n",
       "   'tolerance': 1e-07,\n",
       "   'do_not_symmetrize_the_density': None},\n",
       "  'convergence': {'energy': 0.0005,\n",
       "   'density': 0.0001,\n",
       "   'eigenstates': 4e-08,\n",
       "   'bands': 'occupied',\n",
       "   'forces': inf},\n",
       "  'verbose': 0,\n",
       "  'fixdensity': False,\n",
       "  'dtype': None},\n",
       " '_directory': '.',\n",
       " 'prefix': None,\n",
       " 'name': 'gpaw',\n",
       " 'setups': [<gpaw.setup.LeanSetup at 0x7f655e01b8b0>],\n",
       " 'symmetry': <gpaw.symmetry.Symmetry at 0x7f655e0bc610>,\n",
       " 'comms': {'k': <MPI at 0x7f655e01bb70>,\n",
       "  'b': <MPI at 0x7f655e01bc00>,\n",
       "  'd': <MPI at 0x7f655e01bcc0>,\n",
       "  'D': <MPI at 0x7f655e01bea0>,\n",
       "  'K': <MPI at 0x7f655e01be70>}}"
      ]
     },
     "execution_count": 38,
     "metadata": {},
     "output_type": "execute_result"
    }
   ],
   "source": [
    "atoms.calc.__dict__"
   ]
  },
  {
   "cell_type": "code",
   "execution_count": 14,
   "metadata": {},
   "outputs": [
    {
     "data": {
      "text/plain": [
       "{'_cellobj': Cell([2.9, 10.0, 10.0]),\n",
       " '_pbc': array([ True,  True,  True]),\n",
       " 'arrays': {'numbers': array([79]), 'positions': array([[0., 5., 5.]])},\n",
       " '_celldisp': array([[0.],\n",
       "        [0.],\n",
       "        [0.]]),\n",
       " '_constraints': [],\n",
       " 'info': {},\n",
       " '_calc': <gpaw.calculator.GPAW at 0x7fecb0875bd0>}"
      ]
     },
     "execution_count": 14,
     "metadata": {},
     "output_type": "execute_result"
    }
   ],
   "source": [
    "atoms.__dict__"
   ]
  },
  {
   "cell_type": "code",
   "execution_count": 15,
   "metadata": {},
   "outputs": [
    {
     "data": {
      "text/plain": [
       "{'energy': -2.2428277965913064,\n",
       " 'free_energy': -2.3779658294208836,\n",
       " 'dipole': array([ 5.81066569e-15, -2.78452451e-15, -2.56200538e-16]),\n",
       " 'magmom': 0.0,\n",
       " 'magmoms': array([0.]),\n",
       " 'forces': array([[-5.0706073e-30,  0.0000000e+00,  0.0000000e+00]]),\n",
       " 'stress': array([ 2.02046073e-02,  1.10766539e-03,  1.10766539e-03,  0.00000000e+00,\n",
       "         0.00000000e+00, -1.76830736e-32])}"
      ]
     },
     "execution_count": 15,
     "metadata": {},
     "output_type": "execute_result"
    }
   ],
   "source": [
    "atoms.calc.results"
   ]
  },
  {
   "cell_type": "code",
   "execution_count": 32,
   "metadata": {},
   "outputs": [
    {
     "name": "stdout",
     "output_type": "stream",
     "text": [
      "Help on method get_stress in module ase.atoms:\n",
      "\n",
      "get_stress(voigt=True, apply_constraint=True, include_ideal_gas=False) method of ase.atoms.Atoms instance\n",
      "    Calculate stress tensor.\n",
      "    \n",
      "    Returns an array of the six independent components of the\n",
      "    symmetric stress tensor, in the traditional Voigt order\n",
      "    (xx, yy, zz, yz, xz, xy) or as a 3x3 matrix.  Default is Voigt\n",
      "    order.\n",
      "    \n",
      "    The ideal gas contribution to the stresses is added if the\n",
      "    atoms have momenta and ``include_ideal_gas`` is set to True.\n",
      "\n"
     ]
    }
   ],
   "source": [
    "help(atoms.get_stress)"
   ]
  },
  {
   "cell_type": "code",
   "execution_count": 5,
   "metadata": {},
   "outputs": [
    {
     "data": {
      "text/plain": [
       "{}"
      ]
     },
     "execution_count": 5,
     "metadata": {},
     "output_type": "execute_result"
    }
   ],
   "source": [
    "atoms.info"
   ]
  },
  {
   "cell_type": "code",
   "execution_count": 25,
   "metadata": {},
   "outputs": [
    {
     "data": {
      "text/plain": [
       "['symbols',\n",
       " 'positions',\n",
       " 'energy',\n",
       " 'free_energy',\n",
       " 'dipole',\n",
       " 'magmom',\n",
       " 'magmoms',\n",
       " 'forces',\n",
       " 'stress']"
      ]
     },
     "execution_count": 25,
     "metadata": {},
     "output_type": "execute_result"
    }
   ],
   "source": [
    "cols = [\"symbols\", \"positions\"] + [key for key in atoms.arrays if key not in [\"symbols\", \"positions\", 'numbers']] + [key for key in atoms.calc.results if key not in [\"dipole\", \"magmom\", 'magmoms']]\n",
    "cols"
   ]
  },
  {
   "cell_type": "markdown",
   "metadata": {},
   "source": [
    "## Read properties from traj"
   ]
  },
  {
   "cell_type": "code",
   "execution_count": 30,
   "metadata": {},
   "outputs": [
    {
     "data": {
      "text/plain": [
       "Data Summary\n",
       "Labeled System\n",
       "-------------------\n",
       "Frame Numbers      : 1\n",
       "Atom Numbers       : 1\n",
       "Including Virials  : Yes\n",
       "Element List       :\n",
       "-------------------\n",
       "Au\n",
       "1"
      ]
     },
     "execution_count": 30,
     "metadata": {},
     "output_type": "execute_result"
    }
   ],
   "source": [
    "### Read by dpdata\n",
    "import dpdata\n",
    "\n",
    "data = dpdata.LabeledSystem('conf_ase.traj', fmt='ase/traj')\n",
    "data"
   ]
  },
  {
   "cell_type": "code",
   "execution_count": 3,
   "metadata": {},
   "outputs": [
    {
     "ename": "NameError",
     "evalue": "name 'Trajectory' is not defined",
     "output_type": "error",
     "traceback": [
      "\u001b[0;31m---------------------------------------------------------------------------\u001b[0m",
      "\u001b[0;31mNameError\u001b[0m                                 Traceback (most recent call last)",
      "Cell \u001b[0;32mIn[3], line 1\u001b[0m\n\u001b[0;32m----> 1\u001b[0m traj \u001b[38;5;241m=\u001b[39m \u001b[43mTrajectory\u001b[49m(\u001b[38;5;124m'\u001b[39m\u001b[38;5;124mconf_ase.traj\u001b[39m\u001b[38;5;124m'\u001b[39m)\n\u001b[1;32m      2\u001b[0m a \u001b[38;5;241m=\u001b[39m traj[\u001b[38;5;241m0\u001b[39m]\n",
      "\u001b[0;31mNameError\u001b[0m: name 'Trajectory' is not defined"
     ]
    }
   ],
   "source": [
    "traj = Trajectory('conf_ase.traj')\n",
    "a = traj[0]"
   ]
  },
  {
   "cell_type": "code",
   "execution_count": 2,
   "metadata": {},
   "outputs": [
    {
     "ename": "NameError",
     "evalue": "name 'a' is not defined",
     "output_type": "error",
     "traceback": [
      "\u001b[0;31m---------------------------------------------------------------------------\u001b[0m",
      "\u001b[0;31mNameError\u001b[0m                                 Traceback (most recent call last)",
      "Cell \u001b[0;32mIn[2], line 1\u001b[0m\n\u001b[0;32m----> 1\u001b[0m \u001b[43ma\u001b[49m\u001b[38;5;241m.\u001b[39mget_forces()\n",
      "\u001b[0;31mNameError\u001b[0m: name 'a' is not defined"
     ]
    }
   ],
   "source": [
    "a.get_forces()"
   ]
  },
  {
   "cell_type": "code",
   "execution_count": 1,
   "metadata": {},
   "outputs": [],
   "source": [
    "# ! pip install git+https://github.com/thangckt/dpdata@devel"
   ]
  },
  {
   "cell_type": "markdown",
   "metadata": {},
   "source": [
    "# Combine `atoms`"
   ]
  },
  {
   "cell_type": "code",
   "execution_count": null,
   "metadata": {},
   "outputs": [
    {
     "data": {
      "text/plain": [
       "<Popen: returncode: None args: ['/home/tha/app/miniforge/envs/py13/bin/pytho...>"
      ]
     },
     "execution_count": 3,
     "metadata": {},
     "output_type": "execute_result"
    }
   ],
   "source": [
    "from ase import Atoms\n",
    "from ase.build.tools import stack  # noqa\n",
    "from ase.io import read\n",
    "from ase.visualize import view\n",
    "\n",
    "atoms = Atoms(\"Au\", positions=[[0, 2, 2]], cell=[5, 5, 5], pbc=[1, 0, 0])\n",
    "atoms2 = read(\"test_file/CH4.data\", format=\"lammps-data\")\n",
    "\n",
    "# system = stack(atoms, atoms2)\n",
    "view(atoms)"
   ]
  },
  {
   "cell_type": "markdown",
   "metadata": {},
   "source": [
    "# Atoms' cell\n",
    "\n",
    "## Make *upper triangular matrix* cell\n",
    "Atoms with a box is an *upper triangular matrix* is a requirement to use `NPT` ensemble in `ase.md.npt.NPT`. Which implenented\n",
    "- Nose-Hoover thermostat\n",
    "- Parrinello-Rahman barostat\n",
    "\n",
    "The below code to create the `Atoms` object with an upper triangular matrix box, as [this comments](https://gitlab.com/ase/ase/-/merge_requests/3277#note_2255046877)"
   ]
  },
  {
   "cell_type": "code",
   "execution_count": 4,
   "metadata": {},
   "outputs": [
    {
     "data": {
      "text/plain": [
       "<Popen: returncode: None args: ['/home/tha/app/miniforge/envs/py13/bin/pytho...>"
      ]
     },
     "execution_count": 4,
     "metadata": {},
     "output_type": "execute_result"
    }
   ],
   "source": [
    "from ase.build import bulk\n",
    "from ase.visualize import view\n",
    "\n",
    "atoms = bulk(\"Cu\", \"fcc\")\n",
    "atoms = atoms.repeat((2, 2, 2))\n",
    "view(atoms)  # viewer=\"x3d\""
   ]
  },
  {
   "cell_type": "code",
   "execution_count": 4,
   "metadata": {},
   "outputs": [
    {
     "name": "stdout",
     "output_type": "stream",
     "text": [
      "Initial cell:\n",
      "[[ 4.16846894e+00  1.47377633e+00 -2.55265548e+00]\n",
      " [ 1.56305068e-16  4.42132899e+00 -2.55265548e+00]\n",
      " [ 3.12610136e-16  0.00000000e+00 -5.10531096e+00]]\n",
      "Cell after rotation/permutation:\n",
      "[[-4.16846894e+00 -1.47377633e+00  2.55265548e+00]\n",
      " [-1.56305068e-16 -4.42132899e+00  2.55265548e+00]\n",
      " [-3.12610136e-16  0.00000000e+00  5.10531096e+00]]\n"
     ]
    }
   ],
   "source": [
    "from ase.build import make_supercell\n",
    "\n",
    "print(\"Initial cell:\")\n",
    "print(atoms.cell.array)\n",
    "\n",
    "# Make lower-triangular form\n",
    "atoms.set_cell(atoms.cell.standard_form()[0], strain_atoms=True)\n",
    "\n",
    "# Permute a and c axes\n",
    "atoms = make_supercell(atoms, [[0, 0, 1], [0, 1, 0], [1, 0, 0]])\n",
    "\n",
    "### Now we have something like\n",
    "# # #\n",
    "# # 0\n",
    "# 0 0\n",
    "### So exchange x and z directions by rotating about y\n",
    "# # #      # # #\n",
    "# # 0  ->  0 # #\n",
    "# 0 0      0 0 #\n",
    "\n",
    "atoms.rotate(90, \"y\", rotate_cell=True)\n",
    "\n",
    "print(\"Cell after rotation/permutation:\")\n",
    "print(atoms.cell.array)"
   ]
  },
  {
   "cell_type": "markdown",
   "metadata": {},
   "source": [
    "Details:"
   ]
  },
  {
   "cell_type": "code",
   "execution_count": 9,
   "metadata": {},
   "outputs": [
    {
     "data": {
      "text/plain": [
       "Cell([[0.0, 3.61, 3.61], [3.61, 0.0, 3.61], [3.61, 3.61, 0.0]])"
      ]
     },
     "execution_count": 9,
     "metadata": {},
     "output_type": "execute_result"
    }
   ],
   "source": [
    "### Initial cell:\n",
    "cell = atoms.cell\n",
    "cell"
   ]
  },
  {
   "cell_type": "code",
   "execution_count": 8,
   "metadata": {},
   "outputs": [
    {
     "data": {
      "text/plain": [
       "array([3.61, 0.  , 3.61])"
      ]
     },
     "execution_count": 8,
     "metadata": {},
     "output_type": "execute_result"
    }
   ],
   "source": [
    "cell[1]"
   ]
  },
  {
   "cell_type": "code",
   "execution_count": 14,
   "metadata": {},
   "outputs": [
    {
     "data": {
      "text/plain": [
       "array([[ 5.10531096,  0.        , -0.        ],\n",
       "       [ 2.55265548,  4.42132899, -0.        ],\n",
       "       [ 2.55265548,  1.47377633,  4.16846894]])"
      ]
     },
     "execution_count": 14,
     "metadata": {},
     "output_type": "execute_result"
    }
   ],
   "source": [
    "# Make lower-triangular form\n",
    "atoms.set_cell(atoms.cell.standard_form()[0], strain_atoms=True)\n",
    "atoms.cell.array"
   ]
  },
  {
   "cell_type": "code",
   "execution_count": 15,
   "metadata": {},
   "outputs": [
    {
     "data": {
      "text/plain": [
       "array([[2.55265548, 1.47377633, 4.16846894],\n",
       "       [2.55265548, 4.42132899, 0.        ],\n",
       "       [5.10531096, 0.        , 0.        ]])"
      ]
     },
     "execution_count": 15,
     "metadata": {},
     "output_type": "execute_result"
    }
   ],
   "source": [
    "from ase.build import make_supercell\n",
    "\n",
    "# Permute a and c axes\n",
    "atoms = make_supercell(atoms, [[0, 0, 1], [0, 1, 0], [1, 0, 0]])\n",
    "atoms.cell.array"
   ]
  },
  {
   "cell_type": "code",
   "execution_count": 16,
   "metadata": {},
   "outputs": [
    {
     "data": {
      "text/plain": [
       "array([[ 4.16846894e+00,  1.47377633e+00, -2.55265548e+00],\n",
       "       [ 1.56305068e-16,  4.42132899e+00, -2.55265548e+00],\n",
       "       [ 3.12610136e-16,  0.00000000e+00, -5.10531096e+00]])"
      ]
     },
     "execution_count": 16,
     "metadata": {},
     "output_type": "execute_result"
    }
   ],
   "source": [
    "atoms.rotate(90, \"y\", rotate_cell=True)\n",
    "atoms.cell.array"
   ]
  },
  {
   "cell_type": "code",
   "execution_count": 22,
   "metadata": {},
   "outputs": [
    {
     "data": {
      "text/plain": [
       "array([[ 4.16846894,  1.47377633, -2.55265548],\n",
       "       [ 0.        ,  4.42132899, -2.55265548],\n",
       "       [ 0.        ,  0.        , -5.10531096]])"
      ]
     },
     "execution_count": 22,
     "metadata": {},
     "output_type": "execute_result"
    }
   ],
   "source": [
    "import numpy as np\n",
    "\n",
    "new_cell = np.round(atoms.cell.array, 9)\n",
    "atoms.set_cell(new_cell, strain_atoms=True)\n",
    "atoms.cell.array"
   ]
  },
  {
   "cell_type": "code",
   "execution_count": 19,
   "metadata": {},
   "outputs": [
    {
     "data": {
      "text/plain": [
       "array([[ 4.16846894e+00,  1.47377633e+00, -2.55265548e+00],\n",
       "       [ 1.56305068e-16,  4.42132899e+00, -2.55265548e+00],\n",
       "       [ 3.12610136e-16,  0.00000000e+00, -5.10531096e+00]])"
      ]
     },
     "execution_count": 19,
     "metadata": {},
     "output_type": "execute_result"
    }
   ],
   "source": [
    "atoms.cell.array"
   ]
  },
  {
   "cell_type": "markdown",
   "metadata": {},
   "source": [
    "## Scale cell\n",
    "IMPORTANT: For general (non-orthogonal) cells, the cell vectors are not aligned with Cartesian axes. Instead of modifying only the diagonal components, we should scale the entire cell vectors proportionally along their directions and shift atom positions accordingly.\n",
    "\n",
    "Example (orthorhombic cell):\n",
    "```python\n",
    "# Assumes diagonal cell\n",
    "new_lengths = [cell[i, i] + distances[i] for i in range(3)]\n",
    "new_cell = np.diag(new_lengths)\n",
    "```\n",
    "\n",
    "Example (triclinic cell):\n",
    "```python\n",
    "# Scales full vectors in their own directions\n",
    "new_lengths = [cell[i] + (distances[i] * cell[i] / np.linalg.norm(cell[i])) for i in range(3)]\n",
    "new_cell = np.array(new_lengths)\n",
    "```"
   ]
  },
  {
   "cell_type": "code",
   "execution_count": 8,
   "metadata": {},
   "outputs": [
    {
     "data": {
      "text/plain": [
       "array([[0.  , 3.61, 3.61],\n",
       "       [3.61, 0.  , 3.61],\n",
       "       [3.61, 3.61, 0.  ]])"
      ]
     },
     "execution_count": 8,
     "metadata": {},
     "output_type": "execute_result"
    }
   ],
   "source": [
    "from ase.build import bulk\n",
    "\n",
    "atoms = bulk(\"Cu\", \"fcc\")\n",
    "atoms = atoms.repeat((2, 2, 2))\n",
    "atoms.cell.array"
   ]
  },
  {
   "cell_type": "code",
   "execution_count": 9,
   "metadata": {},
   "outputs": [
    {
     "data": {
      "text/plain": [
       "array([[0.  , 3.61, 3.61],\n",
       "       [3.61, 0.  , 3.61],\n",
       "       [3.61, 3.61, 2.  ]])"
      ]
     },
     "execution_count": 9,
     "metadata": {},
     "output_type": "execute_result"
    }
   ],
   "source": [
    "cell = atoms.get_cell()\n",
    "cell[2, 2] += 2\n",
    "atoms.set_cell(cell, scale_atoms=False)\n",
    "atoms.cell.array"
   ]
  }
 ],
 "metadata": {
  "kernelspec": {
   "display_name": "py13",
   "language": "python",
   "name": "python3"
  },
  "language_info": {
   "codemirror_mode": {
    "name": "ipython",
    "version": 3
   },
   "file_extension": ".py",
   "mimetype": "text/x-python",
   "name": "python",
   "nbconvert_exporter": "python",
   "pygments_lexer": "ipython3",
   "version": "3.13.7"
  },
  "toc-autonumbering": false,
  "toc-showmarkdowntxt": false,
  "toc-showtags": false
 },
 "nbformat": 4,
 "nbformat_minor": 4
}
